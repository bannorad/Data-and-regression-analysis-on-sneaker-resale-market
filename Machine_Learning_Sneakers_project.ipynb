{
  "cells": [
    {
      "cell_type": "code",
      "execution_count": null,
      "metadata": {
        "id": "qByZFFJYQVo3"
      },
      "outputs": [],
      "source": [
        "import pandas as pd\n",
        "import numpy as np\n",
        "import matplotlib.pyplot as plt\n",
        "import seaborn as sns"
      ]
    },
    {
      "cell_type": "code",
      "execution_count": null,
      "metadata": {
        "colab": {
          "base_uri": "https://localhost:8080/"
        },
        "id": "rLoJr-4QK4bL",
        "outputId": "f7a4f0e0-8530-4e81-d5ad-52a7fd64f5c8"
      },
      "outputs": [
        {
          "name": "stdout",
          "output_type": "stream",
          "text": [
            "Requirement already satisfied: openpyxl in /usr/local/lib/python3.7/dist-packages (3.0.9)\n",
            "Requirement already satisfied: et-xmlfile in /usr/local/lib/python3.7/dist-packages (from openpyxl) (1.1.0)\n"
          ]
        }
      ],
      "source": [
        "!pip install --upgrade openpyxl"
      ]
    },
    {
      "cell_type": "code",
      "execution_count": null,
      "metadata": {
        "id": "zY_aokgCQcDC"
      },
      "outputs": [],
      "source": [
        "sneakers_data = pd.read_excel('/content/drive/MyDrive/The booming sneaker resale market/Sneakers.xlsx')"
      ]
    },
    {
      "cell_type": "code",
      "execution_count": null,
      "metadata": {
        "colab": {
          "base_uri": "https://localhost:8080/",
          "height": 513
        },
        "id": "cb1i63G6X83U",
        "outputId": "65d214cb-ac47-4636-de70-69181b5be55b"
      },
      "outputs": [
        {
          "data": {
            "text/html": [
              "\n",
              "  <div id=\"df-dc12a258-d96f-4e0f-a4df-f6d16742bb43\">\n",
              "    <div class=\"colab-df-container\">\n",
              "      <div>\n",
              "<style scoped>\n",
              "    .dataframe tbody tr th:only-of-type {\n",
              "        vertical-align: middle;\n",
              "    }\n",
              "\n",
              "    .dataframe tbody tr th {\n",
              "        vertical-align: top;\n",
              "    }\n",
              "\n",
              "    .dataframe thead th {\n",
              "        text-align: right;\n",
              "    }\n",
              "</style>\n",
              "<table border=\"1\" class=\"dataframe\">\n",
              "  <thead>\n",
              "    <tr style=\"text-align: right;\">\n",
              "      <th></th>\n",
              "      <th>Brand</th>\n",
              "      <th>Designer</th>\n",
              "      <th>Sneaker_Name</th>\n",
              "      <th>Shoe_Size</th>\n",
              "      <th>Release_Date</th>\n",
              "      <th>Retail_Price</th>\n",
              "      <th>Order_Date</th>\n",
              "      <th>Year</th>\n",
              "      <th>Calendar_Quarter</th>\n",
              "      <th>Order_Period (Q-YYYY)</th>\n",
              "      <th>Resale_Price</th>\n",
              "      <th>Buyer_Region</th>\n",
              "      <th>Hold_Period_In_Days</th>\n",
              "      <th>Find dash</th>\n",
              "    </tr>\n",
              "  </thead>\n",
              "  <tbody>\n",
              "    <tr>\n",
              "      <th>0</th>\n",
              "      <td>Adidas</td>\n",
              "      <td>Yeezy</td>\n",
              "      <td>Adidas-Yeezy-Boost-350-Low-V2-Beluga</td>\n",
              "      <td>11.0</td>\n",
              "      <td>2016-09-24</td>\n",
              "      <td>220.0</td>\n",
              "      <td>2017-09-01</td>\n",
              "      <td>2017</td>\n",
              "      <td>Q3</td>\n",
              "      <td>Q3 2017</td>\n",
              "      <td>1097.0</td>\n",
              "      <td>California</td>\n",
              "      <td>342</td>\n",
              "      <td>7</td>\n",
              "    </tr>\n",
              "    <tr>\n",
              "      <th>1</th>\n",
              "      <td>Adidas</td>\n",
              "      <td>Yeezy</td>\n",
              "      <td>Adidas-Yeezy-Boost-350-V2-Core-Black-Copper</td>\n",
              "      <td>11.0</td>\n",
              "      <td>2016-11-23</td>\n",
              "      <td>220.0</td>\n",
              "      <td>2017-09-01</td>\n",
              "      <td>2017</td>\n",
              "      <td>Q3</td>\n",
              "      <td>Q3 2017</td>\n",
              "      <td>685.0</td>\n",
              "      <td>California</td>\n",
              "      <td>282</td>\n",
              "      <td>7</td>\n",
              "    </tr>\n",
              "    <tr>\n",
              "      <th>2</th>\n",
              "      <td>Adidas</td>\n",
              "      <td>Yeezy</td>\n",
              "      <td>Adidas-Yeezy-Boost-350-V2-Core-Black-Green</td>\n",
              "      <td>11.0</td>\n",
              "      <td>2016-11-23</td>\n",
              "      <td>220.0</td>\n",
              "      <td>2017-09-01</td>\n",
              "      <td>2017</td>\n",
              "      <td>Q3</td>\n",
              "      <td>Q3 2017</td>\n",
              "      <td>690.0</td>\n",
              "      <td>California</td>\n",
              "      <td>282</td>\n",
              "      <td>7</td>\n",
              "    </tr>\n",
              "    <tr>\n",
              "      <th>3</th>\n",
              "      <td>Adidas</td>\n",
              "      <td>Yeezy</td>\n",
              "      <td>Adidas-Yeezy-Boost-350-V2-Core-Black-Red</td>\n",
              "      <td>11.5</td>\n",
              "      <td>2016-11-23</td>\n",
              "      <td>220.0</td>\n",
              "      <td>2017-09-01</td>\n",
              "      <td>2017</td>\n",
              "      <td>Q3</td>\n",
              "      <td>Q3 2017</td>\n",
              "      <td>1075.0</td>\n",
              "      <td>Kentucky</td>\n",
              "      <td>282</td>\n",
              "      <td>7</td>\n",
              "    </tr>\n",
              "    <tr>\n",
              "      <th>4</th>\n",
              "      <td>Adidas</td>\n",
              "      <td>Yeezy</td>\n",
              "      <td>Adidas-Yeezy-Boost-350-V2-Core-Black-Red-2017</td>\n",
              "      <td>11.0</td>\n",
              "      <td>2017-02-11</td>\n",
              "      <td>220.0</td>\n",
              "      <td>2017-09-01</td>\n",
              "      <td>2017</td>\n",
              "      <td>Q3</td>\n",
              "      <td>Q3 2017</td>\n",
              "      <td>828.0</td>\n",
              "      <td>Rhode Island</td>\n",
              "      <td>202</td>\n",
              "      <td>7</td>\n",
              "    </tr>\n",
              "  </tbody>\n",
              "</table>\n",
              "</div>\n",
              "      <button class=\"colab-df-convert\" onclick=\"convertToInteractive('df-dc12a258-d96f-4e0f-a4df-f6d16742bb43')\"\n",
              "              title=\"Convert this dataframe to an interactive table.\"\n",
              "              style=\"display:none;\">\n",
              "        \n",
              "  <svg xmlns=\"http://www.w3.org/2000/svg\" height=\"24px\"viewBox=\"0 0 24 24\"\n",
              "       width=\"24px\">\n",
              "    <path d=\"M0 0h24v24H0V0z\" fill=\"none\"/>\n",
              "    <path d=\"M18.56 5.44l.94 2.06.94-2.06 2.06-.94-2.06-.94-.94-2.06-.94 2.06-2.06.94zm-11 1L8.5 8.5l.94-2.06 2.06-.94-2.06-.94L8.5 2.5l-.94 2.06-2.06.94zm10 10l.94 2.06.94-2.06 2.06-.94-2.06-.94-.94-2.06-.94 2.06-2.06.94z\"/><path d=\"M17.41 7.96l-1.37-1.37c-.4-.4-.92-.59-1.43-.59-.52 0-1.04.2-1.43.59L10.3 9.45l-7.72 7.72c-.78.78-.78 2.05 0 2.83L4 21.41c.39.39.9.59 1.41.59.51 0 1.02-.2 1.41-.59l7.78-7.78 2.81-2.81c.8-.78.8-2.07 0-2.86zM5.41 20L4 18.59l7.72-7.72 1.47 1.35L5.41 20z\"/>\n",
              "  </svg>\n",
              "      </button>\n",
              "      \n",
              "  <style>\n",
              "    .colab-df-container {\n",
              "      display:flex;\n",
              "      flex-wrap:wrap;\n",
              "      gap: 12px;\n",
              "    }\n",
              "\n",
              "    .colab-df-convert {\n",
              "      background-color: #E8F0FE;\n",
              "      border: none;\n",
              "      border-radius: 50%;\n",
              "      cursor: pointer;\n",
              "      display: none;\n",
              "      fill: #1967D2;\n",
              "      height: 32px;\n",
              "      padding: 0 0 0 0;\n",
              "      width: 32px;\n",
              "    }\n",
              "\n",
              "    .colab-df-convert:hover {\n",
              "      background-color: #E2EBFA;\n",
              "      box-shadow: 0px 1px 2px rgba(60, 64, 67, 0.3), 0px 1px 3px 1px rgba(60, 64, 67, 0.15);\n",
              "      fill: #174EA6;\n",
              "    }\n",
              "\n",
              "    [theme=dark] .colab-df-convert {\n",
              "      background-color: #3B4455;\n",
              "      fill: #D2E3FC;\n",
              "    }\n",
              "\n",
              "    [theme=dark] .colab-df-convert:hover {\n",
              "      background-color: #434B5C;\n",
              "      box-shadow: 0px 1px 3px 1px rgba(0, 0, 0, 0.15);\n",
              "      filter: drop-shadow(0px 1px 2px rgba(0, 0, 0, 0.3));\n",
              "      fill: #FFFFFF;\n",
              "    }\n",
              "  </style>\n",
              "\n",
              "      <script>\n",
              "        const buttonEl =\n",
              "          document.querySelector('#df-dc12a258-d96f-4e0f-a4df-f6d16742bb43 button.colab-df-convert');\n",
              "        buttonEl.style.display =\n",
              "          google.colab.kernel.accessAllowed ? 'block' : 'none';\n",
              "\n",
              "        async function convertToInteractive(key) {\n",
              "          const element = document.querySelector('#df-dc12a258-d96f-4e0f-a4df-f6d16742bb43');\n",
              "          const dataTable =\n",
              "            await google.colab.kernel.invokeFunction('convertToInteractive',\n",
              "                                                     [key], {});\n",
              "          if (!dataTable) return;\n",
              "\n",
              "          const docLinkHtml = 'Like what you see? Visit the ' +\n",
              "            '<a target=\"_blank\" href=https://colab.research.google.com/notebooks/data_table.ipynb>data table notebook</a>'\n",
              "            + ' to learn more about interactive tables.';\n",
              "          element.innerHTML = '';\n",
              "          dataTable['output_type'] = 'display_data';\n",
              "          await google.colab.output.renderOutput(dataTable, element);\n",
              "          const docLink = document.createElement('div');\n",
              "          docLink.innerHTML = docLinkHtml;\n",
              "          element.appendChild(docLink);\n",
              "        }\n",
              "      </script>\n",
              "    </div>\n",
              "  </div>\n",
              "  "
            ],
            "text/plain": [
              "    Brand Designer  ... Hold_Period_In_Days  Find dash\n",
              "0  Adidas    Yeezy  ...                 342          7\n",
              "1  Adidas    Yeezy  ...                 282          7\n",
              "2  Adidas    Yeezy  ...                 282          7\n",
              "3  Adidas    Yeezy  ...                 282          7\n",
              "4  Adidas    Yeezy  ...                 202          7\n",
              "\n",
              "[5 rows x 14 columns]"
            ]
          },
          "execution_count": 4,
          "metadata": {},
          "output_type": "execute_result"
        }
      ],
      "source": [
        "sneakers_data.head()"
      ]
    },
    {
      "cell_type": "code",
      "execution_count": null,
      "metadata": {
        "colab": {
          "base_uri": "https://localhost:8080/"
        },
        "id": "X-CkDWdxYBg1",
        "outputId": "ae5866e0-28ee-47fa-87a8-247016c1c270"
      },
      "outputs": [
        {
          "name": "stderr",
          "output_type": "stream",
          "text": [
            "/usr/local/lib/python3.7/dist-packages/ipykernel_launcher.py:1: FutureWarning: In a future version of pandas all arguments of DataFrame.drop except for the argument 'labels' will be keyword-only\n",
            "  \"\"\"Entry point for launching an IPython kernel.\n"
          ]
        }
      ],
      "source": [
        "sneakers_data = sneakers_data.drop('Find dash',1)"
      ]
    },
    {
      "cell_type": "code",
      "execution_count": null,
      "metadata": {
        "colab": {
          "base_uri": "https://localhost:8080/"
        },
        "id": "Wv2NxNa7YFHw",
        "outputId": "77640ebc-f188-45ba-9ed1-96f2178081ef"
      },
      "outputs": [
        {
          "name": "stdout",
          "output_type": "stream",
          "text": [
            "<class 'pandas.core.frame.DataFrame'>\n",
            "RangeIndex: 99956 entries, 0 to 99955\n",
            "Data columns (total 13 columns):\n",
            " #   Column                 Non-Null Count  Dtype         \n",
            "---  ------                 --------------  -----         \n",
            " 0   Brand                  99956 non-null  object        \n",
            " 1   Designer               99956 non-null  object        \n",
            " 2   Sneaker_Name           99956 non-null  object        \n",
            " 3   Shoe_Size              99956 non-null  float64       \n",
            " 4   Release_Date           99956 non-null  datetime64[ns]\n",
            " 5   Retail_Price           99956 non-null  float64       \n",
            " 6   Order_Date             99956 non-null  datetime64[ns]\n",
            " 7   Year                   99956 non-null  int64         \n",
            " 8   Calendar_Quarter       99956 non-null  object        \n",
            " 9   Order_Period (Q-YYYY)  99956 non-null  object        \n",
            " 10  Resale_Price           99956 non-null  float64       \n",
            " 11  Buyer_Region           99956 non-null  object        \n",
            " 12  Hold_Period_In_Days    99956 non-null  int64         \n",
            "dtypes: datetime64[ns](2), float64(3), int64(2), object(6)\n",
            "memory usage: 9.9+ MB\n"
          ]
        }
      ],
      "source": [
        "sneakers_data.info()"
      ]
    },
    {
      "cell_type": "code",
      "execution_count": null,
      "metadata": {
        "colab": {
          "base_uri": "https://localhost:8080/"
        },
        "id": "3JhSkxzF2JgQ",
        "outputId": "62130291-2966-43b0-87ac-0b286685eb58"
      },
      "outputs": [
        {
          "data": {
            "text/plain": [
              "13"
            ]
          },
          "execution_count": 7,
          "metadata": {},
          "output_type": "execute_result"
        }
      ],
      "source": [
        "len(sneakers_data.columns)"
      ]
    },
    {
      "cell_type": "code",
      "execution_count": null,
      "metadata": {
        "id": "MIaEhcq5YLv1"
      },
      "outputs": [],
      "source": [
        "sneakers_data['Brand'] = sneakers_data['Brand'].astype('string')\n",
        "sneakers_data['Buyer_Region'] = sneakers_data['Buyer_Region'].astype('string')\n",
        "sneakers_data['Designer'] = sneakers_data['Designer'].astype('string')\n",
        "sneakers_data['Sneaker_Name'] = sneakers_data['Sneaker_Name'].astype('string')\n",
        "sneakers_data['Retail_Price'] = sneakers_data['Retail_Price'].astype(float)\n",
        "sneakers_data['Resale_Price'] = sneakers_data['Resale_Price'].astype(float)\n",
        "sneakers_data['Buyer_Region'] = sneakers_data['Buyer_Region'].astype('string')"
      ]
    },
    {
      "cell_type": "code",
      "execution_count": null,
      "metadata": {
        "id": "WdGf8vUy3fJp"
      },
      "outputs": [],
      "source": [
        "#Renameing columns\n",
        "sneakers_data = sneakers_data.rename(columns={'Resale_Price':'Resale_Price_USD','Retail_Price':'Retail_Price_USD'})"
      ]
    },
    {
      "cell_type": "code",
      "execution_count": null,
      "metadata": {
        "id": "2ybm75Kib82y"
      },
      "outputs": [],
      "source": [
        "#Adding new column to categorize the US states into regions\n",
        "us_region_dict = {'Maine':'Northeast', 'New Hampshire':'Northeast', 'Vermont':'Northeast', 'Massachusetts':'Northeast', 'Rhode Island':'Northeast', 'Connecticut':'Northeast','New York':'Northeast', 'New Jersey':'Northeast', 'Pennsylvania':'Northeast','Ohio':'Midwest', 'Michigan':'Midwest', 'Indiana':'Midwest', 'Wisconsin':'Midwest', 'Illinois':'Midwest', 'Minnesota':'Midwest', 'Iowa':'Midwest', 'Missouri':'Midwest', 'North Dakota':'Midwest', 'South Dakota':'Midwest', 'Nebraska':'Midwest', 'Kansas':'Midwest', 'District of Columbia':'South','Delaware':'South', 'Maryland':'South', 'Virginia':'South', 'West Virginia':'South', 'Kentucky':'South', 'North Carolina':'South', 'South Carolina':'South', 'Tennessee':'South', 'Georgia':'South', 'Florida':'South', 'Alabama':'South', 'Mississippi':'South', 'Arkansas':'South', 'Louisiana':'South', 'Texas':'South','Oklahoma':'South','Montana':'West', 'Idaho':'West', 'Wyoming':'West', 'Colorado':'West', 'New Mexico':'West', 'Arizona':'West', 'Utah':'West', 'Nevada':'West', 'California':'West', 'Oregon':'West', 'Washington':'West', 'Alaska':'West', 'Hawaii':'West'}\n",
        "\n",
        "sneakers_data['US_Region'] = sneakers_data['Buyer_Region'].replace(us_region_dict)\n",
        "sneakers_data['US_Region'] = sneakers_data['US_Region'].astype('category')\n",
        "sneakers_data['Brand'] = sneakers_data['Brand'].astype('category')\n",
        "sneakers_data['Designer'] = sneakers_data['Designer'].astype('category')\n",
        "\n",
        "#Adding a new column calculating the profit i.e. the difference between the retail and resale price\n",
        "sneakers_data['Profit_USD'] = sneakers_data['Resale_Price_USD'] - sneakers_data['Retail_Price_USD']"
      ]
    },
    {
      "cell_type": "code",
      "execution_count": null,
      "metadata": {
        "colab": {
          "base_uri": "https://localhost:8080/"
        },
        "id": "YO9sxgBI5gJf",
        "outputId": "b5bc5de8-a52a-4194-a5fd-5a2397ba8b65"
      },
      "outputs": [
        {
          "name": "stdout",
          "output_type": "stream",
          "text": [
            "<class 'pandas.core.frame.DataFrame'>\n",
            "RangeIndex: 99956 entries, 0 to 99955\n",
            "Data columns (total 15 columns):\n",
            " #   Column                 Non-Null Count  Dtype         \n",
            "---  ------                 --------------  -----         \n",
            " 0   Brand                  99956 non-null  category      \n",
            " 1   Designer               99956 non-null  category      \n",
            " 2   Sneaker_Name           99956 non-null  string        \n",
            " 3   Shoe_Size              99956 non-null  float64       \n",
            " 4   Release_Date           99956 non-null  datetime64[ns]\n",
            " 5   Retail_Price_USD       99956 non-null  float64       \n",
            " 6   Order_Date             99956 non-null  datetime64[ns]\n",
            " 7   Year                   99956 non-null  int64         \n",
            " 8   Calendar_Quarter       99956 non-null  object        \n",
            " 9   Order_Period (Q-YYYY)  99956 non-null  object        \n",
            " 10  Resale_Price_USD       99956 non-null  float64       \n",
            " 11  Buyer_Region           99956 non-null  string        \n",
            " 12  Hold_Period_In_Days    99956 non-null  int64         \n",
            " 13  US_Region              99956 non-null  category      \n",
            " 14  Profit_USD             99956 non-null  float64       \n",
            "dtypes: category(3), datetime64[ns](2), float64(4), int64(2), object(2), string(2)\n",
            "memory usage: 9.4+ MB\n"
          ]
        }
      ],
      "source": [
        "sneakers_data.info()"
      ]
    },
    {
      "cell_type": "code",
      "execution_count": null,
      "metadata": {
        "colab": {
          "base_uri": "https://localhost:8080/",
          "height": 878
        },
        "id": "5Ja2Tt4jfAKs",
        "outputId": "bd529ea1-a3ad-4f39-85da-bdf0c45ff787"
      },
      "outputs": [
        {
          "data": {
            "text/html": [
              "\n",
              "  <div id=\"df-41e66d57-e769-4837-a27e-aedc0ed519d1\">\n",
              "    <div class=\"colab-df-container\">\n",
              "      <div>\n",
              "<style scoped>\n",
              "    .dataframe tbody tr th:only-of-type {\n",
              "        vertical-align: middle;\n",
              "    }\n",
              "\n",
              "    .dataframe tbody tr th {\n",
              "        vertical-align: top;\n",
              "    }\n",
              "\n",
              "    .dataframe thead th {\n",
              "        text-align: right;\n",
              "    }\n",
              "</style>\n",
              "<table border=\"1\" class=\"dataframe\">\n",
              "  <thead>\n",
              "    <tr style=\"text-align: right;\">\n",
              "      <th></th>\n",
              "      <th>Brand</th>\n",
              "      <th>Designer</th>\n",
              "      <th>Sneaker_Name</th>\n",
              "      <th>Shoe_Size</th>\n",
              "      <th>Release_Date</th>\n",
              "      <th>Retail_Price_USD</th>\n",
              "      <th>Order_Date</th>\n",
              "      <th>Year</th>\n",
              "      <th>Calendar_Quarter</th>\n",
              "      <th>Order_Period (Q-YYYY)</th>\n",
              "      <th>Resale_Price_USD</th>\n",
              "      <th>Buyer_Region</th>\n",
              "      <th>Hold_Period_In_Days</th>\n",
              "      <th>US_Region</th>\n",
              "      <th>Profit_USD</th>\n",
              "    </tr>\n",
              "  </thead>\n",
              "  <tbody>\n",
              "    <tr>\n",
              "      <th>0</th>\n",
              "      <td>Adidas</td>\n",
              "      <td>Yeezy</td>\n",
              "      <td>Adidas-Yeezy-Boost-350-Low-V2-Beluga</td>\n",
              "      <td>11.0</td>\n",
              "      <td>2016-09-24</td>\n",
              "      <td>220.0</td>\n",
              "      <td>2017-09-01</td>\n",
              "      <td>2017</td>\n",
              "      <td>Q3</td>\n",
              "      <td>Q3 2017</td>\n",
              "      <td>1097.0</td>\n",
              "      <td>California</td>\n",
              "      <td>342</td>\n",
              "      <td>West</td>\n",
              "      <td>877.0</td>\n",
              "    </tr>\n",
              "    <tr>\n",
              "      <th>1</th>\n",
              "      <td>Adidas</td>\n",
              "      <td>Yeezy</td>\n",
              "      <td>Adidas-Yeezy-Boost-350-V2-Core-Black-Copper</td>\n",
              "      <td>11.0</td>\n",
              "      <td>2016-11-23</td>\n",
              "      <td>220.0</td>\n",
              "      <td>2017-09-01</td>\n",
              "      <td>2017</td>\n",
              "      <td>Q3</td>\n",
              "      <td>Q3 2017</td>\n",
              "      <td>685.0</td>\n",
              "      <td>California</td>\n",
              "      <td>282</td>\n",
              "      <td>West</td>\n",
              "      <td>465.0</td>\n",
              "    </tr>\n",
              "    <tr>\n",
              "      <th>2</th>\n",
              "      <td>Adidas</td>\n",
              "      <td>Yeezy</td>\n",
              "      <td>Adidas-Yeezy-Boost-350-V2-Core-Black-Green</td>\n",
              "      <td>11.0</td>\n",
              "      <td>2016-11-23</td>\n",
              "      <td>220.0</td>\n",
              "      <td>2017-09-01</td>\n",
              "      <td>2017</td>\n",
              "      <td>Q3</td>\n",
              "      <td>Q3 2017</td>\n",
              "      <td>690.0</td>\n",
              "      <td>California</td>\n",
              "      <td>282</td>\n",
              "      <td>West</td>\n",
              "      <td>470.0</td>\n",
              "    </tr>\n",
              "    <tr>\n",
              "      <th>3</th>\n",
              "      <td>Adidas</td>\n",
              "      <td>Yeezy</td>\n",
              "      <td>Adidas-Yeezy-Boost-350-V2-Core-Black-Red</td>\n",
              "      <td>11.5</td>\n",
              "      <td>2016-11-23</td>\n",
              "      <td>220.0</td>\n",
              "      <td>2017-09-01</td>\n",
              "      <td>2017</td>\n",
              "      <td>Q3</td>\n",
              "      <td>Q3 2017</td>\n",
              "      <td>1075.0</td>\n",
              "      <td>Kentucky</td>\n",
              "      <td>282</td>\n",
              "      <td>South</td>\n",
              "      <td>855.0</td>\n",
              "    </tr>\n",
              "    <tr>\n",
              "      <th>4</th>\n",
              "      <td>Adidas</td>\n",
              "      <td>Yeezy</td>\n",
              "      <td>Adidas-Yeezy-Boost-350-V2-Core-Black-Red-2017</td>\n",
              "      <td>11.0</td>\n",
              "      <td>2017-02-11</td>\n",
              "      <td>220.0</td>\n",
              "      <td>2017-09-01</td>\n",
              "      <td>2017</td>\n",
              "      <td>Q3</td>\n",
              "      <td>Q3 2017</td>\n",
              "      <td>828.0</td>\n",
              "      <td>Rhode Island</td>\n",
              "      <td>202</td>\n",
              "      <td>Northeast</td>\n",
              "      <td>608.0</td>\n",
              "    </tr>\n",
              "    <tr>\n",
              "      <th>5</th>\n",
              "      <td>Adidas</td>\n",
              "      <td>Yeezy</td>\n",
              "      <td>Adidas-Yeezy-Boost-350-V2-Core-Black-Red-2017</td>\n",
              "      <td>8.5</td>\n",
              "      <td>2017-02-11</td>\n",
              "      <td>220.0</td>\n",
              "      <td>2017-09-01</td>\n",
              "      <td>2017</td>\n",
              "      <td>Q3</td>\n",
              "      <td>Q3 2017</td>\n",
              "      <td>798.0</td>\n",
              "      <td>Michigan</td>\n",
              "      <td>202</td>\n",
              "      <td>Midwest</td>\n",
              "      <td>578.0</td>\n",
              "    </tr>\n",
              "    <tr>\n",
              "      <th>6</th>\n",
              "      <td>Adidas</td>\n",
              "      <td>Yeezy</td>\n",
              "      <td>Adidas-Yeezy-Boost-350-V2-Core-Black-White</td>\n",
              "      <td>11.0</td>\n",
              "      <td>2016-12-17</td>\n",
              "      <td>220.0</td>\n",
              "      <td>2017-09-01</td>\n",
              "      <td>2017</td>\n",
              "      <td>Q3</td>\n",
              "      <td>Q3 2017</td>\n",
              "      <td>784.0</td>\n",
              "      <td>California</td>\n",
              "      <td>258</td>\n",
              "      <td>West</td>\n",
              "      <td>564.0</td>\n",
              "    </tr>\n",
              "    <tr>\n",
              "      <th>7</th>\n",
              "      <td>Adidas</td>\n",
              "      <td>Yeezy</td>\n",
              "      <td>Adidas-Yeezy-Boost-350-V2-Cream-White</td>\n",
              "      <td>10.0</td>\n",
              "      <td>2017-04-29</td>\n",
              "      <td>220.0</td>\n",
              "      <td>2017-09-01</td>\n",
              "      <td>2017</td>\n",
              "      <td>Q3</td>\n",
              "      <td>Q3 2017</td>\n",
              "      <td>460.0</td>\n",
              "      <td>New York</td>\n",
              "      <td>125</td>\n",
              "      <td>Northeast</td>\n",
              "      <td>240.0</td>\n",
              "    </tr>\n",
              "    <tr>\n",
              "      <th>8</th>\n",
              "      <td>Adidas</td>\n",
              "      <td>Yeezy</td>\n",
              "      <td>Adidas-Yeezy-Boost-350-V2-Cream-White</td>\n",
              "      <td>11.0</td>\n",
              "      <td>2017-04-29</td>\n",
              "      <td>220.0</td>\n",
              "      <td>2017-09-01</td>\n",
              "      <td>2017</td>\n",
              "      <td>Q3</td>\n",
              "      <td>Q3 2017</td>\n",
              "      <td>465.0</td>\n",
              "      <td>Kansas</td>\n",
              "      <td>125</td>\n",
              "      <td>Midwest</td>\n",
              "      <td>245.0</td>\n",
              "    </tr>\n",
              "    <tr>\n",
              "      <th>9</th>\n",
              "      <td>Adidas</td>\n",
              "      <td>Yeezy</td>\n",
              "      <td>Adidas-Yeezy-Boost-350-V2-Cream-White</td>\n",
              "      <td>11.0</td>\n",
              "      <td>2017-04-29</td>\n",
              "      <td>220.0</td>\n",
              "      <td>2017-09-01</td>\n",
              "      <td>2017</td>\n",
              "      <td>Q3</td>\n",
              "      <td>Q3 2017</td>\n",
              "      <td>465.0</td>\n",
              "      <td>Florida</td>\n",
              "      <td>125</td>\n",
              "      <td>South</td>\n",
              "      <td>245.0</td>\n",
              "    </tr>\n",
              "  </tbody>\n",
              "</table>\n",
              "</div>\n",
              "      <button class=\"colab-df-convert\" onclick=\"convertToInteractive('df-41e66d57-e769-4837-a27e-aedc0ed519d1')\"\n",
              "              title=\"Convert this dataframe to an interactive table.\"\n",
              "              style=\"display:none;\">\n",
              "        \n",
              "  <svg xmlns=\"http://www.w3.org/2000/svg\" height=\"24px\"viewBox=\"0 0 24 24\"\n",
              "       width=\"24px\">\n",
              "    <path d=\"M0 0h24v24H0V0z\" fill=\"none\"/>\n",
              "    <path d=\"M18.56 5.44l.94 2.06.94-2.06 2.06-.94-2.06-.94-.94-2.06-.94 2.06-2.06.94zm-11 1L8.5 8.5l.94-2.06 2.06-.94-2.06-.94L8.5 2.5l-.94 2.06-2.06.94zm10 10l.94 2.06.94-2.06 2.06-.94-2.06-.94-.94-2.06-.94 2.06-2.06.94z\"/><path d=\"M17.41 7.96l-1.37-1.37c-.4-.4-.92-.59-1.43-.59-.52 0-1.04.2-1.43.59L10.3 9.45l-7.72 7.72c-.78.78-.78 2.05 0 2.83L4 21.41c.39.39.9.59 1.41.59.51 0 1.02-.2 1.41-.59l7.78-7.78 2.81-2.81c.8-.78.8-2.07 0-2.86zM5.41 20L4 18.59l7.72-7.72 1.47 1.35L5.41 20z\"/>\n",
              "  </svg>\n",
              "      </button>\n",
              "      \n",
              "  <style>\n",
              "    .colab-df-container {\n",
              "      display:flex;\n",
              "      flex-wrap:wrap;\n",
              "      gap: 12px;\n",
              "    }\n",
              "\n",
              "    .colab-df-convert {\n",
              "      background-color: #E8F0FE;\n",
              "      border: none;\n",
              "      border-radius: 50%;\n",
              "      cursor: pointer;\n",
              "      display: none;\n",
              "      fill: #1967D2;\n",
              "      height: 32px;\n",
              "      padding: 0 0 0 0;\n",
              "      width: 32px;\n",
              "    }\n",
              "\n",
              "    .colab-df-convert:hover {\n",
              "      background-color: #E2EBFA;\n",
              "      box-shadow: 0px 1px 2px rgba(60, 64, 67, 0.3), 0px 1px 3px 1px rgba(60, 64, 67, 0.15);\n",
              "      fill: #174EA6;\n",
              "    }\n",
              "\n",
              "    [theme=dark] .colab-df-convert {\n",
              "      background-color: #3B4455;\n",
              "      fill: #D2E3FC;\n",
              "    }\n",
              "\n",
              "    [theme=dark] .colab-df-convert:hover {\n",
              "      background-color: #434B5C;\n",
              "      box-shadow: 0px 1px 3px 1px rgba(0, 0, 0, 0.15);\n",
              "      filter: drop-shadow(0px 1px 2px rgba(0, 0, 0, 0.3));\n",
              "      fill: #FFFFFF;\n",
              "    }\n",
              "  </style>\n",
              "\n",
              "      <script>\n",
              "        const buttonEl =\n",
              "          document.querySelector('#df-41e66d57-e769-4837-a27e-aedc0ed519d1 button.colab-df-convert');\n",
              "        buttonEl.style.display =\n",
              "          google.colab.kernel.accessAllowed ? 'block' : 'none';\n",
              "\n",
              "        async function convertToInteractive(key) {\n",
              "          const element = document.querySelector('#df-41e66d57-e769-4837-a27e-aedc0ed519d1');\n",
              "          const dataTable =\n",
              "            await google.colab.kernel.invokeFunction('convertToInteractive',\n",
              "                                                     [key], {});\n",
              "          if (!dataTable) return;\n",
              "\n",
              "          const docLinkHtml = 'Like what you see? Visit the ' +\n",
              "            '<a target=\"_blank\" href=https://colab.research.google.com/notebooks/data_table.ipynb>data table notebook</a>'\n",
              "            + ' to learn more about interactive tables.';\n",
              "          element.innerHTML = '';\n",
              "          dataTable['output_type'] = 'display_data';\n",
              "          await google.colab.output.renderOutput(dataTable, element);\n",
              "          const docLink = document.createElement('div');\n",
              "          docLink.innerHTML = docLinkHtml;\n",
              "          element.appendChild(docLink);\n",
              "        }\n",
              "      </script>\n",
              "    </div>\n",
              "  </div>\n",
              "  "
            ],
            "text/plain": [
              "    Brand Designer  ...  US_Region  Profit_USD\n",
              "0  Adidas    Yeezy  ...       West       877.0\n",
              "1  Adidas    Yeezy  ...       West       465.0\n",
              "2  Adidas    Yeezy  ...       West       470.0\n",
              "3  Adidas    Yeezy  ...      South       855.0\n",
              "4  Adidas    Yeezy  ...  Northeast       608.0\n",
              "5  Adidas    Yeezy  ...    Midwest       578.0\n",
              "6  Adidas    Yeezy  ...       West       564.0\n",
              "7  Adidas    Yeezy  ...  Northeast       240.0\n",
              "8  Adidas    Yeezy  ...    Midwest       245.0\n",
              "9  Adidas    Yeezy  ...      South       245.0\n",
              "\n",
              "[10 rows x 15 columns]"
            ]
          },
          "execution_count": 12,
          "metadata": {},
          "output_type": "execute_result"
        }
      ],
      "source": [
        "sneakers_data.head(10)"
      ]
    },
    {
      "cell_type": "markdown",
      "metadata": {
        "id": "hpBeCEFCbm4W"
      },
      "source": [
        "#Checking the number of unqiue elements in each feature"
      ]
    },
    {
      "cell_type": "code",
      "execution_count": null,
      "metadata": {
        "colab": {
          "base_uri": "https://localhost:8080/"
        },
        "id": "hhc4y7cjfH72",
        "outputId": "10145823-2680-483d-9971-29833f26e019"
      },
      "outputs": [
        {
          "data": {
            "text/plain": [
              "Brand                       2\n",
              "Designer                    2\n",
              "Sneaker_Name               50\n",
              "Shoe_Size                  26\n",
              "Release_Date               35\n",
              "Retail_Price_USD            8\n",
              "Order_Date                531\n",
              "Year                        3\n",
              "Calendar_Quarter            4\n",
              "Order_Period (Q-YYYY)       7\n",
              "Resale_Price_USD         1489\n",
              "Buyer_Region               51\n",
              "Hold_Period_In_Days      1161\n",
              "US_Region                   4\n",
              "Profit_USD               1556\n",
              "dtype: int64"
            ]
          },
          "execution_count": 13,
          "metadata": {},
          "output_type": "execute_result"
        }
      ],
      "source": [
        "sneakers_data.nunique()"
      ]
    },
    {
      "cell_type": "markdown",
      "metadata": {
        "id": "pU7J280DbwCA"
      },
      "source": [
        "#Dropping any feature with only one unique item"
      ]
    },
    {
      "cell_type": "code",
      "execution_count": null,
      "metadata": {
        "id": "5DIXPmkuhTPm"
      },
      "outputs": [],
      "source": [
        "sneakers_data = sneakers_data.dropna(axis=1,how='all')"
      ]
    },
    {
      "cell_type": "code",
      "execution_count": null,
      "metadata": {
        "colab": {
          "base_uri": "https://localhost:8080/"
        },
        "id": "d9jGIOcv2BGn",
        "outputId": "fc00750e-f736-47c1-dcd4-828f72ad0c1a"
      },
      "outputs": [
        {
          "data": {
            "text/plain": [
              "15"
            ]
          },
          "execution_count": 15,
          "metadata": {},
          "output_type": "execute_result"
        }
      ],
      "source": [
        "len(sneakers_data.columns)"
      ]
    },
    {
      "cell_type": "markdown",
      "metadata": {
        "id": "AthbUo08cU71"
      },
      "source": [
        "#Checking if any feature has null values"
      ]
    },
    {
      "cell_type": "code",
      "execution_count": null,
      "metadata": {
        "colab": {
          "base_uri": "https://localhost:8080/"
        },
        "id": "fJEW_L9kW5WR",
        "outputId": "197bf3fd-9221-4e44-9ce5-9e13b15147a8"
      },
      "outputs": [
        {
          "data": {
            "text/plain": [
              "Brand                    0.0\n",
              "Designer                 0.0\n",
              "Sneaker_Name             0.0\n",
              "Shoe_Size                0.0\n",
              "Release_Date             0.0\n",
              "Retail_Price_USD         0.0\n",
              "Order_Date               0.0\n",
              "Year                     0.0\n",
              "Calendar_Quarter         0.0\n",
              "Order_Period (Q-YYYY)    0.0\n",
              "Resale_Price_USD         0.0\n",
              "Buyer_Region             0.0\n",
              "Hold_Period_In_Days      0.0\n",
              "US_Region                0.0\n",
              "Profit_USD               0.0\n",
              "dtype: float64"
            ]
          },
          "execution_count": 16,
          "metadata": {},
          "output_type": "execute_result"
        }
      ],
      "source": [
        "missing_values = [np.nan,' ', None]\n",
        "sneakers_data.isin(missing_values).mean().sort_values(ascending = False)*100"
      ]
    },
    {
      "cell_type": "markdown",
      "metadata": {
        "id": "M_aJHqcScUuJ"
      },
      "source": [
        "#Data Enconding of categorical column"
      ]
    },
    {
      "cell_type": "code",
      "execution_count": null,
      "metadata": {
        "colab": {
          "base_uri": "https://localhost:8080/",
          "height": 1000
        },
        "id": "QTNzVQjbpNvw",
        "outputId": "3ba28120-d967-4ad0-8abb-0282b6f183e4"
      },
      "outputs": [
        {
          "data": {
            "text/html": [
              "\n",
              "  <div id=\"df-a871b0ee-7593-47e8-9ee4-5c4c01c188d9\">\n",
              "    <div class=\"colab-df-container\">\n",
              "      <div>\n",
              "<style scoped>\n",
              "    .dataframe tbody tr th:only-of-type {\n",
              "        vertical-align: middle;\n",
              "    }\n",
              "\n",
              "    .dataframe tbody tr th {\n",
              "        vertical-align: top;\n",
              "    }\n",
              "\n",
              "    .dataframe thead th {\n",
              "        text-align: right;\n",
              "    }\n",
              "</style>\n",
              "<table border=\"1\" class=\"dataframe\">\n",
              "  <thead>\n",
              "    <tr style=\"text-align: right;\">\n",
              "      <th></th>\n",
              "      <th>Sneaker_Name</th>\n",
              "      <th>Shoe_Size</th>\n",
              "      <th>Release_Date</th>\n",
              "      <th>Retail_Price_USD</th>\n",
              "      <th>Order_Date</th>\n",
              "      <th>Year</th>\n",
              "      <th>Resale_Price_USD</th>\n",
              "      <th>Buyer_Region</th>\n",
              "      <th>Hold_Period_In_Days</th>\n",
              "      <th>Profit_USD</th>\n",
              "      <th>Brand_Nike</th>\n",
              "      <th>Designer_Yeezy</th>\n",
              "      <th>Calendar_Quarter_Q2</th>\n",
              "      <th>Calendar_Quarter_Q3</th>\n",
              "      <th>Calendar_Quarter_Q4</th>\n",
              "      <th>Order_Period (Q-YYYY)_Q1 2019</th>\n",
              "      <th>Order_Period (Q-YYYY)_Q2 2018</th>\n",
              "      <th>Order_Period (Q-YYYY)_Q3 2017</th>\n",
              "      <th>Order_Period (Q-YYYY)_Q3 2018</th>\n",
              "      <th>Order_Period (Q-YYYY)_Q4 2017</th>\n",
              "      <th>Order_Period (Q-YYYY)_Q4 2018</th>\n",
              "      <th>US_Region_Northeast</th>\n",
              "      <th>US_Region_South</th>\n",
              "      <th>US_Region_West</th>\n",
              "    </tr>\n",
              "  </thead>\n",
              "  <tbody>\n",
              "    <tr>\n",
              "      <th>0</th>\n",
              "      <td>Adidas-Yeezy-Boost-350-Low-V2-Beluga</td>\n",
              "      <td>11.0</td>\n",
              "      <td>2016-09-24</td>\n",
              "      <td>220.0</td>\n",
              "      <td>2017-09-01</td>\n",
              "      <td>2017</td>\n",
              "      <td>1097.0</td>\n",
              "      <td>California</td>\n",
              "      <td>342</td>\n",
              "      <td>877.0</td>\n",
              "      <td>0</td>\n",
              "      <td>1</td>\n",
              "      <td>0</td>\n",
              "      <td>1</td>\n",
              "      <td>0</td>\n",
              "      <td>0</td>\n",
              "      <td>0</td>\n",
              "      <td>1</td>\n",
              "      <td>0</td>\n",
              "      <td>0</td>\n",
              "      <td>0</td>\n",
              "      <td>0</td>\n",
              "      <td>0</td>\n",
              "      <td>1</td>\n",
              "    </tr>\n",
              "    <tr>\n",
              "      <th>1</th>\n",
              "      <td>Adidas-Yeezy-Boost-350-V2-Core-Black-Copper</td>\n",
              "      <td>11.0</td>\n",
              "      <td>2016-11-23</td>\n",
              "      <td>220.0</td>\n",
              "      <td>2017-09-01</td>\n",
              "      <td>2017</td>\n",
              "      <td>685.0</td>\n",
              "      <td>California</td>\n",
              "      <td>282</td>\n",
              "      <td>465.0</td>\n",
              "      <td>0</td>\n",
              "      <td>1</td>\n",
              "      <td>0</td>\n",
              "      <td>1</td>\n",
              "      <td>0</td>\n",
              "      <td>0</td>\n",
              "      <td>0</td>\n",
              "      <td>1</td>\n",
              "      <td>0</td>\n",
              "      <td>0</td>\n",
              "      <td>0</td>\n",
              "      <td>0</td>\n",
              "      <td>0</td>\n",
              "      <td>1</td>\n",
              "    </tr>\n",
              "    <tr>\n",
              "      <th>2</th>\n",
              "      <td>Adidas-Yeezy-Boost-350-V2-Core-Black-Green</td>\n",
              "      <td>11.0</td>\n",
              "      <td>2016-11-23</td>\n",
              "      <td>220.0</td>\n",
              "      <td>2017-09-01</td>\n",
              "      <td>2017</td>\n",
              "      <td>690.0</td>\n",
              "      <td>California</td>\n",
              "      <td>282</td>\n",
              "      <td>470.0</td>\n",
              "      <td>0</td>\n",
              "      <td>1</td>\n",
              "      <td>0</td>\n",
              "      <td>1</td>\n",
              "      <td>0</td>\n",
              "      <td>0</td>\n",
              "      <td>0</td>\n",
              "      <td>1</td>\n",
              "      <td>0</td>\n",
              "      <td>0</td>\n",
              "      <td>0</td>\n",
              "      <td>0</td>\n",
              "      <td>0</td>\n",
              "      <td>1</td>\n",
              "    </tr>\n",
              "    <tr>\n",
              "      <th>3</th>\n",
              "      <td>Adidas-Yeezy-Boost-350-V2-Core-Black-Red</td>\n",
              "      <td>11.5</td>\n",
              "      <td>2016-11-23</td>\n",
              "      <td>220.0</td>\n",
              "      <td>2017-09-01</td>\n",
              "      <td>2017</td>\n",
              "      <td>1075.0</td>\n",
              "      <td>Kentucky</td>\n",
              "      <td>282</td>\n",
              "      <td>855.0</td>\n",
              "      <td>0</td>\n",
              "      <td>1</td>\n",
              "      <td>0</td>\n",
              "      <td>1</td>\n",
              "      <td>0</td>\n",
              "      <td>0</td>\n",
              "      <td>0</td>\n",
              "      <td>1</td>\n",
              "      <td>0</td>\n",
              "      <td>0</td>\n",
              "      <td>0</td>\n",
              "      <td>0</td>\n",
              "      <td>1</td>\n",
              "      <td>0</td>\n",
              "    </tr>\n",
              "    <tr>\n",
              "      <th>4</th>\n",
              "      <td>Adidas-Yeezy-Boost-350-V2-Core-Black-Red-2017</td>\n",
              "      <td>11.0</td>\n",
              "      <td>2017-02-11</td>\n",
              "      <td>220.0</td>\n",
              "      <td>2017-09-01</td>\n",
              "      <td>2017</td>\n",
              "      <td>828.0</td>\n",
              "      <td>Rhode Island</td>\n",
              "      <td>202</td>\n",
              "      <td>608.0</td>\n",
              "      <td>0</td>\n",
              "      <td>1</td>\n",
              "      <td>0</td>\n",
              "      <td>1</td>\n",
              "      <td>0</td>\n",
              "      <td>0</td>\n",
              "      <td>0</td>\n",
              "      <td>1</td>\n",
              "      <td>0</td>\n",
              "      <td>0</td>\n",
              "      <td>0</td>\n",
              "      <td>1</td>\n",
              "      <td>0</td>\n",
              "      <td>0</td>\n",
              "    </tr>\n",
              "    <tr>\n",
              "      <th>...</th>\n",
              "      <td>...</td>\n",
              "      <td>...</td>\n",
              "      <td>...</td>\n",
              "      <td>...</td>\n",
              "      <td>...</td>\n",
              "      <td>...</td>\n",
              "      <td>...</td>\n",
              "      <td>...</td>\n",
              "      <td>...</td>\n",
              "      <td>...</td>\n",
              "      <td>...</td>\n",
              "      <td>...</td>\n",
              "      <td>...</td>\n",
              "      <td>...</td>\n",
              "      <td>...</td>\n",
              "      <td>...</td>\n",
              "      <td>...</td>\n",
              "      <td>...</td>\n",
              "      <td>...</td>\n",
              "      <td>...</td>\n",
              "      <td>...</td>\n",
              "      <td>...</td>\n",
              "      <td>...</td>\n",
              "      <td>...</td>\n",
              "    </tr>\n",
              "    <tr>\n",
              "      <th>99951</th>\n",
              "      <td>adidas-Yeezy-Boost-350-V2-Static-Reflective</td>\n",
              "      <td>8.0</td>\n",
              "      <td>2018-12-26</td>\n",
              "      <td>220.0</td>\n",
              "      <td>2019-02-13</td>\n",
              "      <td>2019</td>\n",
              "      <td>565.0</td>\n",
              "      <td>Oregon</td>\n",
              "      <td>49</td>\n",
              "      <td>345.0</td>\n",
              "      <td>0</td>\n",
              "      <td>1</td>\n",
              "      <td>0</td>\n",
              "      <td>0</td>\n",
              "      <td>0</td>\n",
              "      <td>1</td>\n",
              "      <td>0</td>\n",
              "      <td>0</td>\n",
              "      <td>0</td>\n",
              "      <td>0</td>\n",
              "      <td>0</td>\n",
              "      <td>0</td>\n",
              "      <td>0</td>\n",
              "      <td>1</td>\n",
              "    </tr>\n",
              "    <tr>\n",
              "      <th>99952</th>\n",
              "      <td>adidas-Yeezy-Boost-350-V2-Static-Reflective</td>\n",
              "      <td>8.5</td>\n",
              "      <td>2018-12-26</td>\n",
              "      <td>220.0</td>\n",
              "      <td>2019-02-13</td>\n",
              "      <td>2019</td>\n",
              "      <td>598.0</td>\n",
              "      <td>California</td>\n",
              "      <td>49</td>\n",
              "      <td>378.0</td>\n",
              "      <td>0</td>\n",
              "      <td>1</td>\n",
              "      <td>0</td>\n",
              "      <td>0</td>\n",
              "      <td>0</td>\n",
              "      <td>1</td>\n",
              "      <td>0</td>\n",
              "      <td>0</td>\n",
              "      <td>0</td>\n",
              "      <td>0</td>\n",
              "      <td>0</td>\n",
              "      <td>0</td>\n",
              "      <td>0</td>\n",
              "      <td>1</td>\n",
              "    </tr>\n",
              "    <tr>\n",
              "      <th>99953</th>\n",
              "      <td>adidas-Yeezy-Boost-350-V2-Static-Reflective</td>\n",
              "      <td>5.5</td>\n",
              "      <td>2018-12-26</td>\n",
              "      <td>220.0</td>\n",
              "      <td>2019-02-13</td>\n",
              "      <td>2019</td>\n",
              "      <td>605.0</td>\n",
              "      <td>New York</td>\n",
              "      <td>49</td>\n",
              "      <td>385.0</td>\n",
              "      <td>0</td>\n",
              "      <td>1</td>\n",
              "      <td>0</td>\n",
              "      <td>0</td>\n",
              "      <td>0</td>\n",
              "      <td>1</td>\n",
              "      <td>0</td>\n",
              "      <td>0</td>\n",
              "      <td>0</td>\n",
              "      <td>0</td>\n",
              "      <td>0</td>\n",
              "      <td>1</td>\n",
              "      <td>0</td>\n",
              "      <td>0</td>\n",
              "    </tr>\n",
              "    <tr>\n",
              "      <th>99954</th>\n",
              "      <td>adidas-Yeezy-Boost-350-V2-Static-Reflective</td>\n",
              "      <td>11.0</td>\n",
              "      <td>2018-12-26</td>\n",
              "      <td>220.0</td>\n",
              "      <td>2019-02-13</td>\n",
              "      <td>2019</td>\n",
              "      <td>650.0</td>\n",
              "      <td>California</td>\n",
              "      <td>49</td>\n",
              "      <td>430.0</td>\n",
              "      <td>0</td>\n",
              "      <td>1</td>\n",
              "      <td>0</td>\n",
              "      <td>0</td>\n",
              "      <td>0</td>\n",
              "      <td>1</td>\n",
              "      <td>0</td>\n",
              "      <td>0</td>\n",
              "      <td>0</td>\n",
              "      <td>0</td>\n",
              "      <td>0</td>\n",
              "      <td>0</td>\n",
              "      <td>0</td>\n",
              "      <td>1</td>\n",
              "    </tr>\n",
              "    <tr>\n",
              "      <th>99955</th>\n",
              "      <td>adidas-Yeezy-Boost-350-V2-Static-Reflective</td>\n",
              "      <td>11.5</td>\n",
              "      <td>2018-12-26</td>\n",
              "      <td>220.0</td>\n",
              "      <td>2019-02-13</td>\n",
              "      <td>2019</td>\n",
              "      <td>640.0</td>\n",
              "      <td>Texas</td>\n",
              "      <td>49</td>\n",
              "      <td>420.0</td>\n",
              "      <td>0</td>\n",
              "      <td>1</td>\n",
              "      <td>0</td>\n",
              "      <td>0</td>\n",
              "      <td>0</td>\n",
              "      <td>1</td>\n",
              "      <td>0</td>\n",
              "      <td>0</td>\n",
              "      <td>0</td>\n",
              "      <td>0</td>\n",
              "      <td>0</td>\n",
              "      <td>0</td>\n",
              "      <td>1</td>\n",
              "      <td>0</td>\n",
              "    </tr>\n",
              "  </tbody>\n",
              "</table>\n",
              "<p>99956 rows × 24 columns</p>\n",
              "</div>\n",
              "      <button class=\"colab-df-convert\" onclick=\"convertToInteractive('df-a871b0ee-7593-47e8-9ee4-5c4c01c188d9')\"\n",
              "              title=\"Convert this dataframe to an interactive table.\"\n",
              "              style=\"display:none;\">\n",
              "        \n",
              "  <svg xmlns=\"http://www.w3.org/2000/svg\" height=\"24px\"viewBox=\"0 0 24 24\"\n",
              "       width=\"24px\">\n",
              "    <path d=\"M0 0h24v24H0V0z\" fill=\"none\"/>\n",
              "    <path d=\"M18.56 5.44l.94 2.06.94-2.06 2.06-.94-2.06-.94-.94-2.06-.94 2.06-2.06.94zm-11 1L8.5 8.5l.94-2.06 2.06-.94-2.06-.94L8.5 2.5l-.94 2.06-2.06.94zm10 10l.94 2.06.94-2.06 2.06-.94-2.06-.94-.94-2.06-.94 2.06-2.06.94z\"/><path d=\"M17.41 7.96l-1.37-1.37c-.4-.4-.92-.59-1.43-.59-.52 0-1.04.2-1.43.59L10.3 9.45l-7.72 7.72c-.78.78-.78 2.05 0 2.83L4 21.41c.39.39.9.59 1.41.59.51 0 1.02-.2 1.41-.59l7.78-7.78 2.81-2.81c.8-.78.8-2.07 0-2.86zM5.41 20L4 18.59l7.72-7.72 1.47 1.35L5.41 20z\"/>\n",
              "  </svg>\n",
              "      </button>\n",
              "      \n",
              "  <style>\n",
              "    .colab-df-container {\n",
              "      display:flex;\n",
              "      flex-wrap:wrap;\n",
              "      gap: 12px;\n",
              "    }\n",
              "\n",
              "    .colab-df-convert {\n",
              "      background-color: #E8F0FE;\n",
              "      border: none;\n",
              "      border-radius: 50%;\n",
              "      cursor: pointer;\n",
              "      display: none;\n",
              "      fill: #1967D2;\n",
              "      height: 32px;\n",
              "      padding: 0 0 0 0;\n",
              "      width: 32px;\n",
              "    }\n",
              "\n",
              "    .colab-df-convert:hover {\n",
              "      background-color: #E2EBFA;\n",
              "      box-shadow: 0px 1px 2px rgba(60, 64, 67, 0.3), 0px 1px 3px 1px rgba(60, 64, 67, 0.15);\n",
              "      fill: #174EA6;\n",
              "    }\n",
              "\n",
              "    [theme=dark] .colab-df-convert {\n",
              "      background-color: #3B4455;\n",
              "      fill: #D2E3FC;\n",
              "    }\n",
              "\n",
              "    [theme=dark] .colab-df-convert:hover {\n",
              "      background-color: #434B5C;\n",
              "      box-shadow: 0px 1px 3px 1px rgba(0, 0, 0, 0.15);\n",
              "      filter: drop-shadow(0px 1px 2px rgba(0, 0, 0, 0.3));\n",
              "      fill: #FFFFFF;\n",
              "    }\n",
              "  </style>\n",
              "\n",
              "      <script>\n",
              "        const buttonEl =\n",
              "          document.querySelector('#df-a871b0ee-7593-47e8-9ee4-5c4c01c188d9 button.colab-df-convert');\n",
              "        buttonEl.style.display =\n",
              "          google.colab.kernel.accessAllowed ? 'block' : 'none';\n",
              "\n",
              "        async function convertToInteractive(key) {\n",
              "          const element = document.querySelector('#df-a871b0ee-7593-47e8-9ee4-5c4c01c188d9');\n",
              "          const dataTable =\n",
              "            await google.colab.kernel.invokeFunction('convertToInteractive',\n",
              "                                                     [key], {});\n",
              "          if (!dataTable) return;\n",
              "\n",
              "          const docLinkHtml = 'Like what you see? Visit the ' +\n",
              "            '<a target=\"_blank\" href=https://colab.research.google.com/notebooks/data_table.ipynb>data table notebook</a>'\n",
              "            + ' to learn more about interactive tables.';\n",
              "          element.innerHTML = '';\n",
              "          dataTable['output_type'] = 'display_data';\n",
              "          await google.colab.output.renderOutput(dataTable, element);\n",
              "          const docLink = document.createElement('div');\n",
              "          docLink.innerHTML = docLinkHtml;\n",
              "          element.appendChild(docLink);\n",
              "        }\n",
              "      </script>\n",
              "    </div>\n",
              "  </div>\n",
              "  "
            ],
            "text/plain": [
              "                                        Sneaker_Name  ...  US_Region_West\n",
              "0               Adidas-Yeezy-Boost-350-Low-V2-Beluga  ...               1\n",
              "1        Adidas-Yeezy-Boost-350-V2-Core-Black-Copper  ...               1\n",
              "2         Adidas-Yeezy-Boost-350-V2-Core-Black-Green  ...               1\n",
              "3           Adidas-Yeezy-Boost-350-V2-Core-Black-Red  ...               0\n",
              "4      Adidas-Yeezy-Boost-350-V2-Core-Black-Red-2017  ...               0\n",
              "...                                              ...  ...             ...\n",
              "99951    adidas-Yeezy-Boost-350-V2-Static-Reflective  ...               1\n",
              "99952    adidas-Yeezy-Boost-350-V2-Static-Reflective  ...               1\n",
              "99953    adidas-Yeezy-Boost-350-V2-Static-Reflective  ...               0\n",
              "99954    adidas-Yeezy-Boost-350-V2-Static-Reflective  ...               1\n",
              "99955    adidas-Yeezy-Boost-350-V2-Static-Reflective  ...               0\n",
              "\n",
              "[99956 rows x 24 columns]"
            ]
          },
          "execution_count": 17,
          "metadata": {},
          "output_type": "execute_result"
        }
      ],
      "source": [
        "sneakers_data_encode2 = pd.get_dummies(sneakers_data,drop_first=True)\n",
        "\n",
        "sneakers_data_encode2"
      ]
    },
    {
      "cell_type": "code",
      "execution_count": null,
      "metadata": {
        "id": "XrbXmea5zKoW"
      },
      "outputs": [],
      "source": [
        "#Splitty column to independent and dependent variables\n",
        "x = sneakers_data_encode2[['Brand_Nike','Shoe_Size','Retail_Price_USD','Hold_Period_In_Days','Calendar_Quarter_Q2','Calendar_Quarter_Q3','Calendar_Quarter_Q4','US_Region_Northeast','US_Region_South','US_Region_West']]\n",
        "y = sneakers_data_encode2['Resale_Price_USD']"
      ]
    },
    {
      "cell_type": "code",
      "execution_count": null,
      "metadata": {
        "id": "1Hodw9SCyWqW"
      },
      "outputs": [],
      "source": [
        "#Splitting columns into training and test data\n",
        "from sklearn.model_selection import train_test_split\n",
        "x_train, x_test, y_train, y_test = train_test_split(x,y,train_size=0.75)\n"
      ]
    },
    {
      "cell_type": "markdown",
      "metadata": {
        "id": "ZJ0uVtI7c1Ga"
      },
      "source": [
        "#Scaling columns using standard scaler. Scaling shoe size since the data does not distinguish between womens, mens, grade school shoe size. Scaling retail price since both brands have different retail prices for different silhouettes"
      ]
    },
    {
      "cell_type": "code",
      "execution_count": null,
      "metadata": {
        "id": "d6koUAT-5aJa"
      },
      "outputs": [],
      "source": [
        "from sklearn.preprocessing import StandardScaler\n",
        "ac = StandardScaler()\n",
        "x_train[['Shoe_Size','Retail_Price_USD']] = ac.fit_transform(x_train[['Shoe_Size','Retail_Price_USD']])\n",
        "x_test[['Shoe_Size','Retail_Price_USD']] = ac.transform(x_test[['Shoe_Size','Retail_Price_USD']])"
      ]
    },
    {
      "cell_type": "code",
      "execution_count": null,
      "metadata": {
        "colab": {
          "base_uri": "https://localhost:8080/"
        },
        "id": "Cv-2-Q5rVVre",
        "outputId": "c92365a5-9474-4f8c-828c-4e28e809189c"
      },
      "outputs": [
        {
          "name": "stderr",
          "output_type": "stream",
          "text": [
            "/usr/local/lib/python3.7/dist-packages/statsmodels/tools/_testing.py:19: FutureWarning: pandas.util.testing is deprecated. Use the functions in the public API at pandas.testing instead.\n",
            "  import pandas.util.testing as tm\n"
          ]
        },
        {
          "name": "stdout",
          "output_type": "stream",
          "text": [
            "               feature        VIF\n",
            "0           Brand_Nike   1.771915\n",
            "1            Shoe_Size  16.027859\n",
            "2     Retail_Price_USD  22.872582\n",
            "3  Hold_Period_In_Days   1.883077\n",
            "4  Calendar_Quarter_Q2   1.554018\n",
            "5  Calendar_Quarter_Q3   1.730114\n",
            "6  Calendar_Quarter_Q4   2.803984\n",
            "7  US_Region_Northeast   3.175547\n",
            "8      US_Region_South   2.834176\n",
            "9       US_Region_West   3.482108\n"
          ]
        }
      ],
      "source": [
        "#Checking for multicollinearity\n",
        "from statsmodels.stats.outliers_influence import variance_inflation_factor\n",
        "  \n",
        "# the independent variables set\n",
        "x = sneakers_data_encode2[['Brand_Nike','Shoe_Size','Retail_Price_USD','Hold_Period_In_Days','Calendar_Quarter_Q2','Calendar_Quarter_Q3','Calendar_Quarter_Q4','US_Region_Northeast','US_Region_South','US_Region_West']]\n",
        "  \n",
        "# VIF dataframe\n",
        "vif_data = pd.DataFrame()\n",
        "vif_data[\"feature\"] = x.columns\n",
        "  \n",
        "# calculating VIF for each feature\n",
        "vif_data[\"VIF\"] = [variance_inflation_factor(x.values, i)\n",
        "                          for i in range(len(x.columns))]\n",
        "  \n",
        "print(vif_data)"
      ]
    },
    {
      "cell_type": "code",
      "execution_count": null,
      "metadata": {
        "colab": {
          "base_uri": "https://localhost:8080/"
        },
        "id": "TikNTDmCCJwQ",
        "outputId": "bf812dac-9f54-4979-e830-b8f69d543f4f"
      },
      "outputs": [
        {
          "data": {
            "text/plain": [
              "132.85442061609217"
            ]
          },
          "execution_count": 22,
          "metadata": {},
          "output_type": "execute_result"
        }
      ],
      "source": [
        "#Using linear regression\n",
        "#Import machine learning algorithm\n",
        "from sklearn.linear_model import LinearRegression\n",
        "#Import metric\n",
        "from sklearn.metrics import mean_absolute_error\n",
        "#Create model object\n",
        "linear_regressor = LinearRegression()\n",
        "#Fit our model object to our data (this is the training phase)\n",
        "linear_regressor.fit(x_train,y_train)\n",
        "#create prediction with newly trained model\n",
        "linear_prediction = linear_regressor.predict(x_test)\n",
        "#Measure the efficacy of your algorithm using your metric\n",
        "mean_absolute_error(y_test, linear_prediction)"
      ]
    },
    {
      "cell_type": "code",
      "execution_count": null,
      "metadata": {
        "colab": {
          "base_uri": "https://localhost:8080/"
        },
        "id": "SqGTsAGi0kzN",
        "outputId": "00978f88-7bd3-4d2e-b591-65a8ed4b637c"
      },
      "outputs": [
        {
          "data": {
            "text/plain": [
              "0.2964852672507896"
            ]
          },
          "execution_count": 23,
          "metadata": {},
          "output_type": "execute_result"
        }
      ],
      "source": [
        "mean_absolute_error(y_test, linear_prediction)/y_test.mean()"
      ]
    },
    {
      "cell_type": "markdown",
      "metadata": {
        "id": "LytPRZMw1Iy2"
      },
      "source": [
        "#Random Forest"
      ]
    },
    {
      "cell_type": "code",
      "execution_count": null,
      "metadata": {
        "colab": {
          "base_uri": "https://localhost:8080/"
        },
        "id": "vyDS2Uky1H-D",
        "outputId": "17ffa46b-080f-4115-dc5c-ec9fc97589be"
      },
      "outputs": [
        {
          "data": {
            "text/plain": [
              "62.530445267674196"
            ]
          },
          "execution_count": 25,
          "metadata": {},
          "output_type": "execute_result"
        }
      ],
      "source": [
        "\n",
        "#Import machine learning algorithm\n",
        "from sklearn.ensemble import RandomForestRegressor\n",
        "#Import accuracy score\n",
        "from sklearn.metrics import accuracy_score\n",
        "#Import metric\n",
        "from sklearn.metrics import mean_absolute_error\n",
        "#Create model object\n",
        "random_forest_regressor = RandomForestRegressor(n_estimators = 1000)\n",
        "#Fit our model object to our data (this is the training phase)\n",
        "random_forest_regressor.fit(x_train,y_train)\n",
        "#create prediction with newly trained model\n",
        "random_forest_prediction = random_forest_regressor.predict(x_test)\n",
        "#Measure the efficacy of your algorithm using your metric\n",
        "mean_absolute_error(y_test, random_forest_prediction)"
      ]
    },
    {
      "cell_type": "code",
      "execution_count": null,
      "metadata": {
        "colab": {
          "base_uri": "https://localhost:8080/"
        },
        "id": "iFc2eujZ5fCt",
        "outputId": "ad1c4529-6473-4636-a6c2-fa79cd54389a"
      },
      "outputs": [
        {
          "data": {
            "text/plain": [
              "0.13954639740645297"
            ]
          },
          "execution_count": 26,
          "metadata": {},
          "output_type": "execute_result"
        }
      ],
      "source": [
        "mean_absolute_error(y_test, random_forest_prediction)/y_test.mean()"
      ]
    },
    {
      "cell_type": "code",
      "execution_count": null,
      "metadata": {
        "colab": {
          "base_uri": "https://localhost:8080/"
        },
        "id": "JBGod7KdbhKq",
        "outputId": "de59e024-119c-421f-859e-59028b5c2b0e"
      },
      "outputs": [
        {
          "data": {
            "text/plain": [
              "{'bootstrap': [True],\n",
              " 'max_depth': [80, 90],\n",
              " 'max_features': ['auto'],\n",
              " 'min_samples_leaf': [1],\n",
              " 'min_samples_split': [5],\n",
              " 'n_estimators': [1500, 1600]}"
            ]
          },
          "execution_count": 27,
          "metadata": {},
          "output_type": "execute_result"
        }
      ],
      "source": [
        "#Hypertuning our random forest model since it is the best performing model\n",
        "from sklearn.model_selection import GridSearchCV\n",
        "# https://towardsdatascience.com/hyperparameter-tuning-the-random-forest-in-python-using-scikit-learn-28d2aa77dd74\n",
        "\n",
        "n_estimators = [1500, 1600]\n",
        "# Number of features to consider at every split\n",
        "max_features = ['auto']\n",
        "# Maximum number of levels in tree\n",
        "max_depth = [80, 90]\n",
        "# Minimum number of samples required to split a node\n",
        "min_samples_split = [5]\n",
        "# Minimum number of samples required at each leaf node\n",
        "min_samples_leaf = [1]\n",
        "# Method of selecting samples for training each tree\n",
        "bootstrap = [True]\n",
        "# Create the random grid\n",
        "random_grid = {'n_estimators': n_estimators,\n",
        "               'max_features': max_features,\n",
        "               'max_depth': max_depth,\n",
        "               'min_samples_split': min_samples_split,\n",
        "               'min_samples_leaf': min_samples_leaf,\n",
        "               'bootstrap': bootstrap}\n",
        "random_grid"
      ]
    },
    {
      "cell_type": "code",
      "execution_count": null,
      "metadata": {
        "colab": {
          "background_save": true,
          "base_uri": "https://localhost:8080/"
        },
        "id": "cho8ZLFicE-y",
        "outputId": "0e38bd00-4389-4c06-bcd5-6f79671285b0"
      },
      "outputs": [
        {
          "name": "stdout",
          "output_type": "stream",
          "text": [
            "Fitting 3 folds for each of 4 candidates, totalling 12 fits\n"
          ]
        },
        {
          "name": "stderr",
          "output_type": "stream",
          "text": [
            "/usr/local/lib/python3.7/dist-packages/joblib/externals/loky/process_executor.py:705: UserWarning: A worker stopped while some jobs were given to the executor. This can be caused by a too short worker timeout or by a memory leak.\n",
            "  \"timeout or by a memory leak.\", UserWarning\n"
          ]
        },
        {
          "data": {
            "text/plain": [
              "GridSearchCV(cv=3, estimator=RandomForestRegressor(), n_jobs=-1,\n",
              "             param_grid={'bootstrap': [True], 'max_depth': [80, 90],\n",
              "                         'max_features': ['auto'], 'min_samples_leaf': [1],\n",
              "                         'min_samples_split': [5],\n",
              "                         'n_estimators': [1500, 1600]},\n",
              "             verbose=2)"
            ]
          },
          "execution_count": null,
          "metadata": {},
          "output_type": "execute_result"
        }
      ],
      "source": [
        "# Use the random grid to search for best hyperparameters\n",
        "# First create the base model to tune\n",
        "rf = RandomForestRegressor()\n",
        "# Random search of parameters, using 3 fold cross validation, \n",
        "# search across 100 different combinations, and use all available cores\n",
        "rf_random = GridSearchCV(estimator = rf, param_grid = random_grid, cv = 3, verbose=2, n_jobs = -1)\n",
        "# Fit the random search model\n",
        "rf_random.fit(x_train, y_train)"
      ]
    },
    {
      "cell_type": "code",
      "execution_count": null,
      "metadata": {
        "colab": {
          "base_uri": "https://localhost:8080/"
        },
        "id": "nW2IgRBAgXcq",
        "outputId": "79927180-2309-4a95-a9b1-0aa1c7af4993"
      },
      "outputs": [
        {
          "data": {
            "text/plain": [
              "{'bootstrap': True,\n",
              " 'max_depth': 80,\n",
              " 'max_features': 'auto',\n",
              " 'min_samples_leaf': 1,\n",
              " 'min_samples_split': 5,\n",
              " 'n_estimators': 1600}"
            ]
          },
          "execution_count": 29,
          "metadata": {},
          "output_type": "execute_result"
        }
      ],
      "source": [
        "#getting the list of paramters\n",
        "rf_random.best_params_"
      ]
    },
    {
      "cell_type": "code",
      "execution_count": null,
      "metadata": {
        "colab": {
          "background_save": true
        },
        "id": "LTLfwxkIdrOF",
        "outputId": "ad246797-ac12-4282-97ce-062987eaed1a"
      },
      "outputs": [
        {
          "data": {
            "text/plain": [
              "61.58989959300619"
            ]
          },
          "execution_count": null,
          "metadata": {},
          "output_type": "execute_result"
        }
      ],
      "source": [
        "from sklearn.ensemble import RandomForestRegressor\n",
        "from sklearn.metrics import mean_absolute_error\n",
        "\n",
        "perfect_random_forest = RandomForestRegressor(n_estimators=1600, min_samples_split=5, min_samples_leaf=1, max_features='auto', max_depth=90, bootstrap=True)\n",
        "perfect_random_forest.fit(x_train, y_train)\n",
        "\n",
        "perfect_random_forest_predictions = perfect_random_forest.predict(x_test)\n",
        "\n",
        "mean_absolute_error(y_test, perfect_random_forest_predictions)"
      ]
    },
    {
      "cell_type": "code",
      "execution_count": null,
      "metadata": {
        "id": "qT5IWjTWnHCn"
      },
      "outputs": [],
      "source": [
        "mean_absolute_error(y_test, perfect_random_forest_predictions)/y_test.mean()"
      ]
    },
    {
      "cell_type": "markdown",
      "metadata": {
        "id": "8GQ9MQFrZBUL"
      },
      "source": [
        "#Using XGBoost\n"
      ]
    },
    {
      "cell_type": "code",
      "execution_count": null,
      "metadata": {
        "id": "vy4r_tj9ZG99"
      },
      "outputs": [],
      "source": [
        "#Import machine learning algorithm\n",
        "from xgboost import XGBRegressor\n",
        "#Import metric\n",
        "from sklearn.metrics import mean_absolute_error\n",
        "#Create model object\n",
        "boost_model = XGBRegressor()\n",
        "#Fit our model object to our data (this is the training phase)\n",
        "boost_model.fit(x_train,y_train)\n",
        "#create prediction with newly trained model\n",
        "boost_prediction = boost_model.predict(x_test)\n",
        "#Measure the efficacy of your algorithm using your metric\n",
        "mean_absolute_error(y_test, boost_prediction)"
      ]
    },
    {
      "cell_type": "code",
      "execution_count": null,
      "metadata": {
        "id": "LfDqbBtsc8uD"
      },
      "outputs": [],
      "source": [
        "mean_absolute_error(y_test, boost_prediction)/y_test.mean()"
      ]
    },
    {
      "cell_type": "markdown",
      "metadata": {
        "id": "Bz6wEcIZrWXr"
      },
      "source": [
        "#Using K-NN"
      ]
    },
    {
      "cell_type": "code",
      "execution_count": null,
      "metadata": {
        "id": "bsCcNmA0eNZW"
      },
      "outputs": [],
      "source": [
        "sneakers_data_encode = sneakers_data.copy()\n",
        "dummies = pd.get_dummies(sneakers_data_encode['US_Region'], prefix='Region')\n",
        "dummies_2 = pd.get_dummies(sneakers_data_encode['Brand'], prefix='Brand')\n",
        "sneakers_data_encode = pd.concat([sneakers_data_encode,dummies_2,dummies], axis='columns')"
      ]
    },
    {
      "cell_type": "code",
      "execution_count": null,
      "metadata": {
        "id": "qQlcwHZflqvV"
      },
      "outputs": [],
      "source": [
        "sneakers_data_encode.head()"
      ]
    },
    {
      "cell_type": "code",
      "execution_count": null,
      "metadata": {
        "id": "tiJG-V7NnK7g"
      },
      "outputs": [],
      "source": [
        "sneakers_data_encode_final = sneakers_data_encode.drop(columns ={'Designer','Sneaker_Name','Release_Date','Order_Date','Year','Calendar_Quarter','Order_Period (Q-YYYY)','Buyer_Region','Profit_USD','Brand','Brand_Adidas','US_Region','Region_South'})"
      ]
    },
    {
      "cell_type": "code",
      "execution_count": null,
      "metadata": {
        "id": "vdOtVxjineH9"
      },
      "outputs": [],
      "source": [
        "sneakers_data_encode_final.head()"
      ]
    },
    {
      "cell_type": "code",
      "execution_count": null,
      "metadata": {
        "id": "MleuRyePDSTv"
      },
      "outputs": [],
      "source": [
        "import seaborn as sns\n",
        "sns.pairplot(sneakers_data_encode_final, hue='Resale_Price_USD')"
      ]
    },
    {
      "cell_type": "code",
      "execution_count": null,
      "metadata": {
        "id": "EAymX8CaCtmu"
      },
      "outputs": [],
      "source": [
        "#Splitty column to independent and dependent variables\n",
        "X = sneakers_data_encode_final[['Brand_Nike','Shoe_Size','Retail_Price_USD','Hold_Period_In_Days','Region_Midwest','Region_Northeast','Region_West']]\n",
        "Y = sneakers_data_encode_final['Resale_Price_USD']"
      ]
    },
    {
      "cell_type": "code",
      "execution_count": null,
      "metadata": {
        "id": "6rT1fSBBNRhi"
      },
      "outputs": [],
      "source": [
        "#Using K-Neareast\n",
        "from sklearn.model_selection import train_test_split\n",
        "from sklearn.neighbors import KNeighborsClassifier\n",
        "from sklearn import metrics\n",
        "X_train, X_test, Y_train, Y_test = train_test_split(X,Y, random_state =5)\n",
        "knnclassifier = KNeighborsClassifier(n_neighbors = 5)\n",
        "knnclassifier.fit(X_train,Y_train)\n",
        "Y_pred = knnclassifier.predict(X_test)\n",
        "metrics.accuracy_score(Y_test,Y_pred)"
      ]
    },
    {
      "cell_type": "code",
      "execution_count": null,
      "metadata": {
        "id": "h8c5MDAx8u9e"
      },
      "outputs": [],
      "source": [
        "#Using cross validation\n",
        "from sklearn.model_selection import cross_val_score\n",
        "knnclassifier = KNeighborsClassifier(n_neighbors=5)\n",
        "print(cross_val_score(knnclassifier, X, Y, cv=5, scoring ='accuracy').mean())"
      ]
    }
  ],
  "metadata": {
    "colab": {
      "collapsed_sections": [],
      "name": "Machine Learning Sneakers project.ipynb",
      "provenance": []
    },
    "kernelspec": {
      "display_name": "Python 3",
      "name": "python3"
    },
    "language_info": {
      "name": "python"
    }
  },
  "nbformat": 4,
  "nbformat_minor": 0
}