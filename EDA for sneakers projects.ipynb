{
 "cells": [
  {
   "cell_type": "code",
   "execution_count": 1,
   "id": "f487c96c",
   "metadata": {},
   "outputs": [],
   "source": [
    "#Import modules\n",
    "import pandas as pd\n",
    "import numpy as np"
   ]
  },
  {
   "cell_type": "code",
   "execution_count": 2,
   "id": "3a292552",
   "metadata": {},
   "outputs": [],
   "source": [
    "#Reading Sneakers data file\n",
    "sneakers_data = pd.read_excel(\"/Users/ghanamanb/Desktop/Sneakers.xlsx\")"
   ]
  },
  {
   "cell_type": "code",
   "execution_count": 3,
   "id": "9020dc7e",
   "metadata": {},
   "outputs": [
    {
     "data": {
      "text/html": [
       "<div>\n",
       "<style scoped>\n",
       "    .dataframe tbody tr th:only-of-type {\n",
       "        vertical-align: middle;\n",
       "    }\n",
       "\n",
       "    .dataframe tbody tr th {\n",
       "        vertical-align: top;\n",
       "    }\n",
       "\n",
       "    .dataframe thead th {\n",
       "        text-align: right;\n",
       "    }\n",
       "</style>\n",
       "<table border=\"1\" class=\"dataframe\">\n",
       "  <thead>\n",
       "    <tr style=\"text-align: right;\">\n",
       "      <th></th>\n",
       "      <th>Brand</th>\n",
       "      <th>Designer</th>\n",
       "      <th>Sneaker_Name</th>\n",
       "      <th>Shoe_Size</th>\n",
       "      <th>Release_Date</th>\n",
       "      <th>Retail_Price</th>\n",
       "      <th>Order_Date</th>\n",
       "      <th>Year</th>\n",
       "      <th>Calendar_Quarter</th>\n",
       "      <th>Order_Period (Q-YYYY)</th>\n",
       "      <th>Resale_Price</th>\n",
       "      <th>Buyer_Region</th>\n",
       "      <th>Hold_Period_In_Days</th>\n",
       "      <th>Find dash</th>\n",
       "    </tr>\n",
       "  </thead>\n",
       "  <tbody>\n",
       "    <tr>\n",
       "      <th>0</th>\n",
       "      <td>Adidas</td>\n",
       "      <td>Yeezy</td>\n",
       "      <td>Adidas-Yeezy-Boost-350-Low-V2-Beluga</td>\n",
       "      <td>11.0</td>\n",
       "      <td>2016-09-24</td>\n",
       "      <td>220</td>\n",
       "      <td>2017-09-01</td>\n",
       "      <td>2017</td>\n",
       "      <td>Q3</td>\n",
       "      <td>Q3 2017</td>\n",
       "      <td>1097</td>\n",
       "      <td>California</td>\n",
       "      <td>342</td>\n",
       "      <td>7</td>\n",
       "    </tr>\n",
       "    <tr>\n",
       "      <th>1</th>\n",
       "      <td>Adidas</td>\n",
       "      <td>Yeezy</td>\n",
       "      <td>Adidas-Yeezy-Boost-350-V2-Core-Black-Copper</td>\n",
       "      <td>11.0</td>\n",
       "      <td>2016-11-23</td>\n",
       "      <td>220</td>\n",
       "      <td>2017-09-01</td>\n",
       "      <td>2017</td>\n",
       "      <td>Q3</td>\n",
       "      <td>Q3 2017</td>\n",
       "      <td>685</td>\n",
       "      <td>California</td>\n",
       "      <td>282</td>\n",
       "      <td>7</td>\n",
       "    </tr>\n",
       "    <tr>\n",
       "      <th>2</th>\n",
       "      <td>Adidas</td>\n",
       "      <td>Yeezy</td>\n",
       "      <td>Adidas-Yeezy-Boost-350-V2-Core-Black-Green</td>\n",
       "      <td>11.0</td>\n",
       "      <td>2016-11-23</td>\n",
       "      <td>220</td>\n",
       "      <td>2017-09-01</td>\n",
       "      <td>2017</td>\n",
       "      <td>Q3</td>\n",
       "      <td>Q3 2017</td>\n",
       "      <td>690</td>\n",
       "      <td>California</td>\n",
       "      <td>282</td>\n",
       "      <td>7</td>\n",
       "    </tr>\n",
       "    <tr>\n",
       "      <th>3</th>\n",
       "      <td>Adidas</td>\n",
       "      <td>Yeezy</td>\n",
       "      <td>Adidas-Yeezy-Boost-350-V2-Core-Black-Red</td>\n",
       "      <td>11.5</td>\n",
       "      <td>2016-11-23</td>\n",
       "      <td>220</td>\n",
       "      <td>2017-09-01</td>\n",
       "      <td>2017</td>\n",
       "      <td>Q3</td>\n",
       "      <td>Q3 2017</td>\n",
       "      <td>1075</td>\n",
       "      <td>Kentucky</td>\n",
       "      <td>282</td>\n",
       "      <td>7</td>\n",
       "    </tr>\n",
       "    <tr>\n",
       "      <th>4</th>\n",
       "      <td>Adidas</td>\n",
       "      <td>Yeezy</td>\n",
       "      <td>Adidas-Yeezy-Boost-350-V2-Core-Black-Red-2017</td>\n",
       "      <td>11.0</td>\n",
       "      <td>2017-02-11</td>\n",
       "      <td>220</td>\n",
       "      <td>2017-09-01</td>\n",
       "      <td>2017</td>\n",
       "      <td>Q3</td>\n",
       "      <td>Q3 2017</td>\n",
       "      <td>828</td>\n",
       "      <td>Rhode Island</td>\n",
       "      <td>202</td>\n",
       "      <td>7</td>\n",
       "    </tr>\n",
       "  </tbody>\n",
       "</table>\n",
       "</div>"
      ],
      "text/plain": [
       "    Brand Designer                                   Sneaker_Name  Shoe_Size  \\\n",
       "0  Adidas    Yeezy           Adidas-Yeezy-Boost-350-Low-V2-Beluga       11.0   \n",
       "1  Adidas    Yeezy    Adidas-Yeezy-Boost-350-V2-Core-Black-Copper       11.0   \n",
       "2  Adidas    Yeezy     Adidas-Yeezy-Boost-350-V2-Core-Black-Green       11.0   \n",
       "3  Adidas    Yeezy       Adidas-Yeezy-Boost-350-V2-Core-Black-Red       11.5   \n",
       "4  Adidas    Yeezy  Adidas-Yeezy-Boost-350-V2-Core-Black-Red-2017       11.0   \n",
       "\n",
       "  Release_Date  Retail_Price Order_Date  Year Calendar_Quarter  \\\n",
       "0   2016-09-24           220 2017-09-01  2017               Q3   \n",
       "1   2016-11-23           220 2017-09-01  2017               Q3   \n",
       "2   2016-11-23           220 2017-09-01  2017               Q3   \n",
       "3   2016-11-23           220 2017-09-01  2017               Q3   \n",
       "4   2017-02-11           220 2017-09-01  2017               Q3   \n",
       "\n",
       "  Order_Period (Q-YYYY)  Resale_Price  Buyer_Region  Hold_Period_In_Days  \\\n",
       "0               Q3 2017          1097    California                  342   \n",
       "1               Q3 2017           685    California                  282   \n",
       "2               Q3 2017           690    California                  282   \n",
       "3               Q3 2017          1075      Kentucky                  282   \n",
       "4               Q3 2017           828  Rhode Island                  202   \n",
       "\n",
       "   Find dash  \n",
       "0          7  \n",
       "1          7  \n",
       "2          7  \n",
       "3          7  \n",
       "4          7  "
      ]
     },
     "execution_count": 3,
     "metadata": {},
     "output_type": "execute_result"
    }
   ],
   "source": [
    "sneakers_data.head()"
   ]
  },
  {
   "cell_type": "code",
   "execution_count": 75,
   "id": "421ef7c0",
   "metadata": {},
   "outputs": [
    {
     "data": {
      "text/plain": [
       "(99956, 14)"
      ]
     },
     "execution_count": 75,
     "metadata": {},
     "output_type": "execute_result"
    }
   ],
   "source": [
    "#How many rows and columns does the dataset have\n",
    "sneakers_data.shape"
   ]
  },
  {
   "cell_type": "code",
   "execution_count": 35,
   "id": "94ccf70d",
   "metadata": {},
   "outputs": [
    {
     "name": "stdout",
     "output_type": "stream",
     "text": [
      "<class 'pandas.core.frame.DataFrame'>\n",
      "RangeIndex: 99956 entries, 0 to 99955\n",
      "Data columns (total 14 columns):\n",
      " #   Column                 Non-Null Count  Dtype         \n",
      "---  ------                 --------------  -----         \n",
      " 0   Brand                  99956 non-null  object        \n",
      " 1   Designer               99956 non-null  object        \n",
      " 2   Sneaker_Name           99956 non-null  object        \n",
      " 3   Shoe_Size              99956 non-null  float64       \n",
      " 4   Release_Date           99956 non-null  datetime64[ns]\n",
      " 5   Retail_Price           99956 non-null  int64         \n",
      " 6   Order_Date             99956 non-null  datetime64[ns]\n",
      " 7   Year                   99956 non-null  int64         \n",
      " 8   Calendar_Quarter       99956 non-null  object        \n",
      " 9   Order_Period (Q-YYYY)  99956 non-null  object        \n",
      " 10  Resale_Price           99956 non-null  int64         \n",
      " 11  Buyer_Region           99956 non-null  object        \n",
      " 12  Hold_Period_In_Days    99956 non-null  int64         \n",
      " 13  Find dash              99956 non-null  int64         \n",
      "dtypes: datetime64[ns](2), float64(1), int64(5), object(6)\n",
      "memory usage: 10.7+ MB\n"
     ]
    }
   ],
   "source": [
    "#What are the data types of each column\n",
    "sneakers_data.info()"
   ]
  },
  {
   "cell_type": "code",
   "execution_count": 33,
   "id": "a7662a7d",
   "metadata": {},
   "outputs": [
    {
     "data": {
      "text/html": [
       "<div>\n",
       "<style scoped>\n",
       "    .dataframe tbody tr th:only-of-type {\n",
       "        vertical-align: middle;\n",
       "    }\n",
       "\n",
       "    .dataframe tbody tr th {\n",
       "        vertical-align: top;\n",
       "    }\n",
       "\n",
       "    .dataframe thead th {\n",
       "        text-align: right;\n",
       "    }\n",
       "</style>\n",
       "<table border=\"1\" class=\"dataframe\">\n",
       "  <thead>\n",
       "    <tr style=\"text-align: right;\">\n",
       "      <th></th>\n",
       "      <th>Shoe_Size</th>\n",
       "      <th>Retail_Price</th>\n",
       "      <th>Year</th>\n",
       "      <th>Resale_Price</th>\n",
       "      <th>Hold_Period_In_Days</th>\n",
       "    </tr>\n",
       "  </thead>\n",
       "  <tbody>\n",
       "    <tr>\n",
       "      <th>count</th>\n",
       "      <td>99956.000000</td>\n",
       "      <td>99956.00000</td>\n",
       "      <td>99956.000000</td>\n",
       "      <td>99956.000000</td>\n",
       "      <td>99956.000000</td>\n",
       "    </tr>\n",
       "    <tr>\n",
       "      <th>mean</th>\n",
       "      <td>9.344181</td>\n",
       "      <td>208.61359</td>\n",
       "      <td>2018.029013</td>\n",
       "      <td>446.634719</td>\n",
       "      <td>183.708722</td>\n",
       "    </tr>\n",
       "    <tr>\n",
       "      <th>std</th>\n",
       "      <td>2.329588</td>\n",
       "      <td>25.20001</td>\n",
       "      <td>0.542357</td>\n",
       "      <td>255.982969</td>\n",
       "      <td>232.354142</td>\n",
       "    </tr>\n",
       "    <tr>\n",
       "      <th>min</th>\n",
       "      <td>3.500000</td>\n",
       "      <td>130.00000</td>\n",
       "      <td>2017.000000</td>\n",
       "      <td>186.000000</td>\n",
       "      <td>-69.000000</td>\n",
       "    </tr>\n",
       "    <tr>\n",
       "      <th>25%</th>\n",
       "      <td>8.000000</td>\n",
       "      <td>220.00000</td>\n",
       "      <td>2018.000000</td>\n",
       "      <td>275.000000</td>\n",
       "      <td>10.000000</td>\n",
       "    </tr>\n",
       "    <tr>\n",
       "      <th>50%</th>\n",
       "      <td>9.500000</td>\n",
       "      <td>220.00000</td>\n",
       "      <td>2018.000000</td>\n",
       "      <td>370.000000</td>\n",
       "      <td>56.000000</td>\n",
       "    </tr>\n",
       "    <tr>\n",
       "      <th>75%</th>\n",
       "      <td>11.000000</td>\n",
       "      <td>220.00000</td>\n",
       "      <td>2018.000000</td>\n",
       "      <td>540.000000</td>\n",
       "      <td>345.000000</td>\n",
       "    </tr>\n",
       "    <tr>\n",
       "      <th>max</th>\n",
       "      <td>17.000000</td>\n",
       "      <td>250.00000</td>\n",
       "      <td>2019.000000</td>\n",
       "      <td>4050.000000</td>\n",
       "      <td>1321.000000</td>\n",
       "    </tr>\n",
       "  </tbody>\n",
       "</table>\n",
       "</div>"
      ],
      "text/plain": [
       "          Shoe_Size  Retail_Price          Year  Resale_Price  \\\n",
       "count  99956.000000   99956.00000  99956.000000  99956.000000   \n",
       "mean       9.344181     208.61359   2018.029013    446.634719   \n",
       "std        2.329588      25.20001      0.542357    255.982969   \n",
       "min        3.500000     130.00000   2017.000000    186.000000   \n",
       "25%        8.000000     220.00000   2018.000000    275.000000   \n",
       "50%        9.500000     220.00000   2018.000000    370.000000   \n",
       "75%       11.000000     220.00000   2018.000000    540.000000   \n",
       "max       17.000000     250.00000   2019.000000   4050.000000   \n",
       "\n",
       "       Hold_Period_In_Days  \n",
       "count         99956.000000  \n",
       "mean            183.708722  \n",
       "std             232.354142  \n",
       "min             -69.000000  \n",
       "25%              10.000000  \n",
       "50%              56.000000  \n",
       "75%             345.000000  \n",
       "max            1321.000000  "
      ]
     },
     "execution_count": 33,
     "metadata": {},
     "output_type": "execute_result"
    }
   ],
   "source": [
    "#Summary statistics\n",
    "sneakers_data.describe().drop(columns = 'Find dash')"
   ]
  },
  {
   "cell_type": "markdown",
   "id": "6a6c03b1",
   "metadata": {},
   "source": [
    "Estimation of location"
   ]
  },
  {
   "cell_type": "code",
   "execution_count": 6,
   "id": "cf2bace1",
   "metadata": {},
   "outputs": [
    {
     "name": "stdout",
     "output_type": "stream",
     "text": [
      "9.344181439833527\n",
      "208.613589979591\n",
      "446.63471927648163\n"
     ]
    }
   ],
   "source": [
    "#Mean\n",
    "average_shoe_size=sneakers_data[\"Shoe_Size\"].mean()\n",
    "average_retail_price_usd=sneakers_data[\"Retail_Price\"].mean()\n",
    "average_resale_price_usd=sneakers_data[\"Resale_Price\"].mean()\n",
    "print(average_shoe_size)\n",
    "print(average_retail_price_usd)\n",
    "print(average_resale_price_usd)"
   ]
  },
  {
   "cell_type": "code",
   "execution_count": 7,
   "id": "a96d0ebc",
   "metadata": {},
   "outputs": [
    {
     "name": "stdout",
     "output_type": "stream",
     "text": [
      "9.5\n",
      "220.0\n",
      "370.0\n"
     ]
    }
   ],
   "source": [
    "#Median \n",
    "median_shoe_size=sneakers_data[\"Shoe_Size\"].median()\n",
    "median_retail_price_usd=sneakers_data[\"Retail_Price\"].median()\n",
    "median_resale_price_usd=sneakers_data[\"Resale_Price\"].median()\n",
    "print(median_shoe_size)\n",
    "print(median_retail_price_usd)\n",
    "print(median_resale_price_usd)"
   ]
  },
  {
   "cell_type": "code",
   "execution_count": 8,
   "id": "d92809a2",
   "metadata": {},
   "outputs": [
    {
     "name": "stdout",
     "output_type": "stream",
     "text": [
      "9.451241777755547\n",
      "213.34292074131506\n",
      "401.3617787559713\n"
     ]
    }
   ],
   "source": [
    "#Trimmed mean\n",
    "from scipy.stats import trim_mean\n",
    "trim_mean_shoe_size=trim_mean(sneakers_data[\"Shoe_Size\"],0.1)\n",
    "trim_mean_retail_price_usd=trim_mean(sneakers_data[\"Retail_Price\"],0.1)\n",
    "trim_mean_resale_price_usd=trim_mean(sneakers_data[\"Resale_Price\"],0.1)\n",
    "print(trim_mean_shoe_size)\n",
    "print(trim_mean_retail_price_usd)\n",
    "print(trim_mean_resale_price_usd)"
   ]
  },
  {
   "cell_type": "markdown",
   "id": "d7c13207",
   "metadata": {},
   "source": [
    "Estimation of variability"
   ]
  },
  {
   "cell_type": "code",
   "execution_count": 9,
   "id": "8307b4de",
   "metadata": {},
   "outputs": [
    {
     "name": "stdout",
     "output_type": "stream",
     "text": [
      "5.426978399533862\n",
      "635.0404812102619\n",
      "65527.28034485742\n"
     ]
    }
   ],
   "source": [
    "#Variance\n",
    "from statistics import variance\n",
    "var_shoe_size = variance(sneakers_data[\"Shoe_Size\"])\n",
    "var_retail_price_usd = variance(sneakers_data[\"Retail_Price\"])\n",
    "var_resale_price_usd = variance(sneakers_data[\"Resale_Price\"])\n",
    "print(var_shoe_size)\n",
    "print(var_retail_price_usd)\n",
    "print(var_resale_price_usd)"
   ]
  },
  {
   "cell_type": "code",
   "execution_count": 10,
   "id": "ce13da9e",
   "metadata": {},
   "outputs": [
    {
     "name": "stdout",
     "output_type": "stream",
     "text": [
      "2.329587602888945\n",
      "25.200009547820848\n",
      "255.98296885702655\n"
     ]
    }
   ],
   "source": [
    "# Standard Deviation\n",
    "from statistics import stdev\n",
    "stdev_shoe_size = stdev(sneakers_data[\"Shoe_Size\"])\n",
    "stdev_retail_price_usd = stdev(sneakers_data[\"Retail_Price\"])\n",
    "stdev_resale_price_usd = stdev(sneakers_data[\"Resale_Price\"])\n",
    "print(stdev_shoe_size)\n",
    "print(stdev_retail_price_usd)\n",
    "print(stdev_resale_price_usd)"
   ]
  },
  {
   "cell_type": "code",
   "execution_count": 11,
   "id": "e75ac403",
   "metadata": {},
   "outputs": [
    {
     "name": "stdout",
     "output_type": "stream",
     "text": [
      "1.8540989226981055\n",
      "19.1764236923198\n",
      "176.8392508599649\n"
     ]
    }
   ],
   "source": [
    "# Mean Absolute Deviation (MAD)\n",
    "from numpy import mean, absolute\n",
    "mad_shoe_size = mean(absolute(sneakers_data[\"Shoe_Size\"]-mean(sneakers_data[\"Shoe_Size\"])))\n",
    "mad_retail_price_usd = mean(absolute(sneakers_data[\"Retail_Price\"]-mean(sneakers_data[\"Retail_Price\"])))\n",
    "mad_resale_price_usd = mean(absolute(sneakers_data[\"Resale_Price\"]-mean(sneakers_data[\"Resale_Price\"])))\n",
    "print(mad_shoe_size)\n",
    "print(mad_retail_price_usd)\n",
    "print(mad_resale_price_usd)"
   ]
  },
  {
   "cell_type": "code",
   "execution_count": 12,
   "id": "4c91144a",
   "metadata": {},
   "outputs": [
    {
     "name": "stdout",
     "output_type": "stream",
     "text": [
      "1.5\n",
      "0.0\n",
      "101.0\n"
     ]
    }
   ],
   "source": [
    "# Median Absolute Deviation (MEAD)\n",
    "from numpy import median, absolute\n",
    "mead_shoe_size = median(absolute(sneakers_data[\"Shoe_Size\"]-median(sneakers_data[\"Shoe_Size\"])))\n",
    "mead_retail_price_usd = median(absolute(sneakers_data[\"Retail_Price\"]-median(sneakers_data[\"Retail_Price\"])))\n",
    "mead_resale_price_usd = median(absolute(sneakers_data[\"Resale_Price\"]-median(sneakers_data[\"Resale_Price\"])))\n",
    "print(mead_shoe_size)\n",
    "print(mead_retail_price_usd)\n",
    "print(mead_resale_price_usd)"
   ]
  },
  {
   "cell_type": "code",
   "execution_count": 13,
   "id": "74f8dc30",
   "metadata": {},
   "outputs": [
    {
     "name": "stdout",
     "output_type": "stream",
     "text": [
      "3.0\n",
      "0.0\n",
      "265.0\n"
     ]
    }
   ],
   "source": [
    "#Interquartile range\n",
    "shoe_size_q1 = np.percentile(sneakers_data[\"Shoe_Size\"],25)\n",
    "shoe_size_q3 = np.percentile(sneakers_data[\"Shoe_Size\"],75)\n",
    "shoe_size_interquartile_range = shoe_size_q3-shoe_size_q1\n",
    "\n",
    "retail_price_usd_q1 = np.percentile(sneakers_data[\"Retail_Price\"],25)\n",
    "retail_price_usd_q3 = np.percentile(sneakers_data[\"Retail_Price\"],75)\n",
    "retail_price_usd_interquartile_range = retail_price_usd_q3-retail_price_usd_q1\n",
    "\n",
    "resale_price_usd_q1 = np.percentile(sneakers_data[\"Resale_Price\"],25)\n",
    "resale_price_usd_q3 = np.percentile(sneakers_data[\"Resale_Price\"],75)\n",
    "resale_price_usd_interquartile_range = resale_price_usd_q3-resale_price_usd_q1\n",
    "\n",
    "print(shoe_size_interquartile_range)\n",
    "print(retail_price_usd_interquartile_range)\n",
    "print(resale_price_usd_interquartile_range)"
   ]
  },
  {
   "cell_type": "markdown",
   "id": "7bf206b9",
   "metadata": {},
   "source": [
    "Exploring Data Distribution"
   ]
  },
  {
   "cell_type": "code",
   "execution_count": 15,
   "id": "7a178ea7",
   "metadata": {},
   "outputs": [
    {
     "data": {
      "text/plain": [
       "<AxesSubplot:>"
      ]
     },
     "execution_count": 15,
     "metadata": {},
     "output_type": "execute_result"
    },
    {
     "data": {
      "image/png": "[encoded data removed]",
      "text/plain": [
       "<Figure size 432x288 with 1 Axes>"
      ]
     },
     "metadata": {
      "needs_background": "light"
     },
     "output_type": "display_data"
    }
   ],
   "source": [
    "sneakers_data.boxplot(column=\"Shoe_Size\")"
   ]
  },
  {
   "cell_type": "code",
   "execution_count": 16,
   "id": "d5b75196",
   "metadata": {},
   "outputs": [
    {
     "data": {
      "text/plain": [
       "<AxesSubplot:>"
      ]
     },
     "execution_count": 16,
     "metadata": {},
     "output_type": "execute_result"
    },
    {
     "data": {
      "image/png": "[encoded data removed]",
      "text/plain": [
       "<Figure size 432x288 with 1 Axes>"
      ]
     },
     "metadata": {
      "needs_background": "light"
     },
     "output_type": "display_data"
    }
   ],
   "source": [
    "sneakers_data.boxplot(column=\"Retail_Price\")"
   ]
  },
  {
   "cell_type": "code",
   "execution_count": 17,
   "id": "556ca212",
   "metadata": {},
   "outputs": [
    {
     "data": {
      "text/plain": [
       "<AxesSubplot:>"
      ]
     },
     "execution_count": 17,
     "metadata": {},
     "output_type": "execute_result"
    },
    {
     "data": {
      "image/png": "[encoded data removed]",
      "text/plain": [
       "<Figure size 432x288 with 1 Axes>"
      ]
     },
     "metadata": {
      "needs_background": "light"
     },
     "output_type": "display_data"
    }
   ],
   "source": [
    "sneakers_data.boxplot(column=\"Resale_Price\")"
   ]
  },
  {
   "cell_type": "code",
   "execution_count": 36,
   "id": "0ab58d28",
   "metadata": {},
   "outputs": [
    {
     "data": {
      "image/png": "[encoded data removed]",
      "text/plain": [
       "<Figure size 432x288 with 1 Axes>"
      ]
     },
     "metadata": {
      "needs_background": "light"
     },
     "output_type": "display_data"
    }
   ],
   "source": [
    "#Histogram Shoe Size\n",
    "import matplotlib.pyplot as plt\n",
    "plt.hist(x=sneakers_data[\"Shoe_Size\"], bins = 'auto', color = '#0504aa', alpha=0.7, rwidth=0.85)\n",
    "plt.show()"
   ]
  },
  {
   "cell_type": "code",
   "execution_count": 37,
   "id": "c7cd247d",
   "metadata": {},
   "outputs": [
    {
     "data": {
      "image/png": "[encoded data removed]",
      "text/plain": [
       "<Figure size 432x288 with 1 Axes>"
      ]
     },
     "metadata": {
      "needs_background": "light"
     },
     "output_type": "display_data"
    }
   ],
   "source": [
    "#Histogram Retail Price\n",
    "import matplotlib.pyplot as plt\n",
    "plt.hist(x=sneakers_data[\"Retail_Price\"], bins = 'auto', color = '#0504aa', alpha=0.7, rwidth=0.85)\n",
    "plt.show()"
   ]
  },
  {
   "cell_type": "code",
   "execution_count": 82,
   "id": "33cd9218",
   "metadata": {},
   "outputs": [
    {
     "data": {
      "image/png": "[encoded data removed]",
      "text/plain": [
       "<Figure size 432x288 with 1 Axes>"
      ]
     },
     "metadata": {
      "needs_background": "light"
     },
     "output_type": "display_data"
    }
   ],
   "source": [
    "#Histogram Resale Price\n",
    "import matplotlib.pyplot as plt\n",
    "plt.hist(x=sneakers_data[\"Resale_Price\"], bins = 450, color = '#0504aa', alpha=0.7, rwidth=0.85)\n",
    "plt.show()"
   ]
  },
  {
   "cell_type": "code",
   "execution_count": 25,
   "id": "5cdffd71",
   "metadata": {},
   "outputs": [
    {
     "data": {
      "text/plain": [
       "<AxesSubplot:xlabel='Shoe_Size'>"
      ]
     },
     "execution_count": 25,
     "metadata": {},
     "output_type": "execute_result"
    },
    {
     "data": {
      "image/png": "[encoded data removed]",
      "text/plain": [
       "<Figure size 432x288 with 1 Axes>"
      ]
     },
     "metadata": {
      "needs_background": "light"
     },
     "output_type": "display_data"
    }
   ],
   "source": [
    "import seaborn as sns\n",
    "# Violin Plot Shoe Size\n",
    "sns.violinplot(x=sneakers_data[\"Shoe_Size\"])"
   ]
  },
  {
   "cell_type": "code",
   "execution_count": 26,
   "id": "d8fbaa7a",
   "metadata": {},
   "outputs": [
    {
     "data": {
      "text/plain": [
       "<AxesSubplot:xlabel='Retail_Price'>"
      ]
     },
     "execution_count": 26,
     "metadata": {},
     "output_type": "execute_result"
    },
    {
     "data": {
      "image/png": "[encoded data removed]",
      "text/plain": [
       "<Figure size 432x288 with 1 Axes>"
      ]
     },
     "metadata": {
      "needs_background": "light"
     },
     "output_type": "display_data"
    }
   ],
   "source": [
    "import seaborn as sns\n",
    "# Violin Plot Retail Price\n",
    "sns.violinplot(x=sneakers_data[\"Retail_Price\"])"
   ]
  },
  {
   "cell_type": "code",
   "execution_count": 27,
   "id": "878bbab9",
   "metadata": {},
   "outputs": [
    {
     "data": {
      "text/plain": [
       "<AxesSubplot:xlabel='Resale_Price'>"
      ]
     },
     "execution_count": 27,
     "metadata": {},
     "output_type": "execute_result"
    },
    {
     "data": {
      "image/png": "[encoded data removed]",
      "text/plain": [
       "<Figure size 432x288 with 1 Axes>"
      ]
     },
     "metadata": {
      "needs_background": "light"
     },
     "output_type": "display_data"
    }
   ],
   "source": [
    "import seaborn as sns\n",
    "# Violin Plot Retail Price\n",
    "sns.violinplot(x=sneakers_data[\"Resale_Price\"])"
   ]
  },
  {
   "cell_type": "markdown",
   "id": "65a14343",
   "metadata": {},
   "source": []
  },
  {
   "cell_type": "code",
   "execution_count": 42,
   "id": "afb96a7d",
   "metadata": {},
   "outputs": [
    {
     "data": {
      "text/html": [
       "<div>\n",
       "<style scoped>\n",
       "    .dataframe tbody tr th:only-of-type {\n",
       "        vertical-align: middle;\n",
       "    }\n",
       "\n",
       "    .dataframe tbody tr th {\n",
       "        vertical-align: top;\n",
       "    }\n",
       "\n",
       "    .dataframe thead th {\n",
       "        text-align: right;\n",
       "    }\n",
       "</style>\n",
       "<table border=\"1\" class=\"dataframe\">\n",
       "  <thead>\n",
       "    <tr style=\"text-align: right;\">\n",
       "      <th></th>\n",
       "      <th>Shoe_Size</th>\n",
       "      <th>Retail_Price</th>\n",
       "      <th>Year</th>\n",
       "      <th>Resale_Price</th>\n",
       "      <th>Hold_Period_In_Days</th>\n",
       "    </tr>\n",
       "  </thead>\n",
       "  <tbody>\n",
       "    <tr>\n",
       "      <th>Shoe_Size</th>\n",
       "      <td>1.000000</td>\n",
       "      <td>-0.052798</td>\n",
       "      <td>-0.061312</td>\n",
       "      <td>0.082795</td>\n",
       "      <td>0.017450</td>\n",
       "    </tr>\n",
       "    <tr>\n",
       "      <th>Retail_Price</th>\n",
       "      <td>-0.052798</td>\n",
       "      <td>1.000000</td>\n",
       "      <td>-0.052630</td>\n",
       "      <td>-0.361550</td>\n",
       "      <td>0.245391</td>\n",
       "    </tr>\n",
       "    <tr>\n",
       "      <th>Year</th>\n",
       "      <td>-0.061312</td>\n",
       "      <td>-0.052630</td>\n",
       "      <td>1.000000</td>\n",
       "      <td>-0.127846</td>\n",
       "      <td>0.138915</td>\n",
       "    </tr>\n",
       "    <tr>\n",
       "      <th>Resale_Price</th>\n",
       "      <td>0.082795</td>\n",
       "      <td>-0.361550</td>\n",
       "      <td>-0.127846</td>\n",
       "      <td>1.000000</td>\n",
       "      <td>-0.086407</td>\n",
       "    </tr>\n",
       "    <tr>\n",
       "      <th>Hold_Period_In_Days</th>\n",
       "      <td>0.017450</td>\n",
       "      <td>0.245391</td>\n",
       "      <td>0.138915</td>\n",
       "      <td>-0.086407</td>\n",
       "      <td>1.000000</td>\n",
       "    </tr>\n",
       "  </tbody>\n",
       "</table>\n",
       "</div>"
      ],
      "text/plain": [
       "                     Shoe_Size  Retail_Price      Year  Resale_Price  \\\n",
       "Shoe_Size             1.000000     -0.052798 -0.061312      0.082795   \n",
       "Retail_Price         -0.052798      1.000000 -0.052630     -0.361550   \n",
       "Year                 -0.061312     -0.052630  1.000000     -0.127846   \n",
       "Resale_Price          0.082795     -0.361550 -0.127846      1.000000   \n",
       "Hold_Period_In_Days   0.017450      0.245391  0.138915     -0.086407   \n",
       "\n",
       "                     Hold_Period_In_Days  \n",
       "Shoe_Size                       0.017450  \n",
       "Retail_Price                    0.245391  \n",
       "Year                            0.138915  \n",
       "Resale_Price                   -0.086407  \n",
       "Hold_Period_In_Days             1.000000  "
      ]
     },
     "execution_count": 42,
     "metadata": {},
     "output_type": "execute_result"
    }
   ],
   "source": [
    "#Correlation Matrix\n",
    "sneakers_data.drop(columns ='Find dash').corr()"
   ]
  },
  {
   "cell_type": "code",
   "execution_count": 61,
   "id": "8a515713",
   "metadata": {},
   "outputs": [
    {
     "data": {
      "text/html": [
       "<div>\n",
       "<style scoped>\n",
       "    .dataframe tbody tr th:only-of-type {\n",
       "        vertical-align: middle;\n",
       "    }\n",
       "\n",
       "    .dataframe tbody tr th {\n",
       "        vertical-align: top;\n",
       "    }\n",
       "\n",
       "    .dataframe thead th {\n",
       "        text-align: right;\n",
       "    }\n",
       "</style>\n",
       "<table border=\"1\" class=\"dataframe\">\n",
       "  <thead>\n",
       "    <tr style=\"text-align: right;\">\n",
       "      <th></th>\n",
       "      <th>Brand</th>\n",
       "      <th>Designer</th>\n",
       "      <th>Sneaker_Name</th>\n",
       "      <th>Shoe_Size</th>\n",
       "      <th>Release_Date</th>\n",
       "      <th>Retail_Price</th>\n",
       "      <th>Order_Date</th>\n",
       "      <th>Year</th>\n",
       "      <th>Calendar_Quarter</th>\n",
       "      <th>Order_Period (Q-YYYY)</th>\n",
       "      <th>Resale_Price</th>\n",
       "      <th>Buyer_Region</th>\n",
       "      <th>Hold_Period_In_Days</th>\n",
       "      <th>Find dash</th>\n",
       "    </tr>\n",
       "  </thead>\n",
       "  <tbody>\n",
       "    <tr>\n",
       "      <th>128</th>\n",
       "      <td>Nike</td>\n",
       "      <td>Off-White</td>\n",
       "      <td>Nike-Air-Max-90-Off-White</td>\n",
       "      <td>8.0</td>\n",
       "      <td>2017-09-09</td>\n",
       "      <td>160</td>\n",
       "      <td>2017-09-07</td>\n",
       "      <td>2017</td>\n",
       "      <td>Q3</td>\n",
       "      <td>Q3 2017</td>\n",
       "      <td>1600</td>\n",
       "      <td>California</td>\n",
       "      <td>-2</td>\n",
       "      <td>5</td>\n",
       "    </tr>\n",
       "    <tr>\n",
       "      <th>129</th>\n",
       "      <td>Nike</td>\n",
       "      <td>Off-White</td>\n",
       "      <td>Nike-Air-Max-90-Off-White</td>\n",
       "      <td>11.5</td>\n",
       "      <td>2017-09-09</td>\n",
       "      <td>160</td>\n",
       "      <td>2017-09-07</td>\n",
       "      <td>2017</td>\n",
       "      <td>Q3</td>\n",
       "      <td>Q3 2017</td>\n",
       "      <td>1090</td>\n",
       "      <td>New York</td>\n",
       "      <td>-2</td>\n",
       "      <td>5</td>\n",
       "    </tr>\n",
       "    <tr>\n",
       "      <th>130</th>\n",
       "      <td>Nike</td>\n",
       "      <td>Off-White</td>\n",
       "      <td>Nike-Air-Presto-Off-White</td>\n",
       "      <td>10.0</td>\n",
       "      <td>2017-09-09</td>\n",
       "      <td>160</td>\n",
       "      <td>2017-09-07</td>\n",
       "      <td>2017</td>\n",
       "      <td>Q3</td>\n",
       "      <td>Q3 2017</td>\n",
       "      <td>1344</td>\n",
       "      <td>New York</td>\n",
       "      <td>-2</td>\n",
       "      <td>5</td>\n",
       "    </tr>\n",
       "    <tr>\n",
       "      <th>131</th>\n",
       "      <td>Nike</td>\n",
       "      <td>Off-White</td>\n",
       "      <td>Nike-Air-Presto-Off-White</td>\n",
       "      <td>10.0</td>\n",
       "      <td>2017-09-09</td>\n",
       "      <td>160</td>\n",
       "      <td>2017-09-07</td>\n",
       "      <td>2017</td>\n",
       "      <td>Q3</td>\n",
       "      <td>Q3 2017</td>\n",
       "      <td>1325</td>\n",
       "      <td>Massachusetts</td>\n",
       "      <td>-2</td>\n",
       "      <td>5</td>\n",
       "    </tr>\n",
       "    <tr>\n",
       "      <th>132</th>\n",
       "      <td>Nike</td>\n",
       "      <td>Off-White</td>\n",
       "      <td>Nike-Air-VaporMax-Off-White</td>\n",
       "      <td>12.0</td>\n",
       "      <td>2017-09-09</td>\n",
       "      <td>250</td>\n",
       "      <td>2017-09-07</td>\n",
       "      <td>2017</td>\n",
       "      <td>Q3</td>\n",
       "      <td>Q3 2017</td>\n",
       "      <td>1800</td>\n",
       "      <td>Kentucky</td>\n",
       "      <td>-2</td>\n",
       "      <td>5</td>\n",
       "    </tr>\n",
       "    <tr>\n",
       "      <th>...</th>\n",
       "      <td>...</td>\n",
       "      <td>...</td>\n",
       "      <td>...</td>\n",
       "      <td>...</td>\n",
       "      <td>...</td>\n",
       "      <td>...</td>\n",
       "      <td>...</td>\n",
       "      <td>...</td>\n",
       "      <td>...</td>\n",
       "      <td>...</td>\n",
       "      <td>...</td>\n",
       "      <td>...</td>\n",
       "      <td>...</td>\n",
       "      <td>...</td>\n",
       "    </tr>\n",
       "    <tr>\n",
       "      <th>99869</th>\n",
       "      <td>Nike</td>\n",
       "      <td>Off-White</td>\n",
       "      <td>Nike-Zoom-Fly-Off-White-Pink</td>\n",
       "      <td>11.0</td>\n",
       "      <td>2018-11-28</td>\n",
       "      <td>170</td>\n",
       "      <td>2019-02-13</td>\n",
       "      <td>2019</td>\n",
       "      <td>Q1</td>\n",
       "      <td>Q1 2019</td>\n",
       "      <td>265</td>\n",
       "      <td>New York</td>\n",
       "      <td>77</td>\n",
       "      <td>5</td>\n",
       "    </tr>\n",
       "    <tr>\n",
       "      <th>99870</th>\n",
       "      <td>Nike</td>\n",
       "      <td>Off-White</td>\n",
       "      <td>Nike-Zoom-Fly-Off-White-Pink</td>\n",
       "      <td>4.0</td>\n",
       "      <td>2018-11-28</td>\n",
       "      <td>170</td>\n",
       "      <td>2019-02-13</td>\n",
       "      <td>2019</td>\n",
       "      <td>Q1</td>\n",
       "      <td>Q1 2019</td>\n",
       "      <td>331</td>\n",
       "      <td>California</td>\n",
       "      <td>77</td>\n",
       "      <td>5</td>\n",
       "    </tr>\n",
       "    <tr>\n",
       "      <th>99871</th>\n",
       "      <td>Nike</td>\n",
       "      <td>Off-White</td>\n",
       "      <td>Nike-Zoom-Fly-Off-White-Pink</td>\n",
       "      <td>6.0</td>\n",
       "      <td>2018-11-28</td>\n",
       "      <td>170</td>\n",
       "      <td>2019-02-13</td>\n",
       "      <td>2019</td>\n",
       "      <td>Q1</td>\n",
       "      <td>Q1 2019</td>\n",
       "      <td>405</td>\n",
       "      <td>New York</td>\n",
       "      <td>77</td>\n",
       "      <td>5</td>\n",
       "    </tr>\n",
       "    <tr>\n",
       "      <th>99872</th>\n",
       "      <td>Nike</td>\n",
       "      <td>Off-White</td>\n",
       "      <td>Nike-Zoom-Fly-Off-White-Pink</td>\n",
       "      <td>10.0</td>\n",
       "      <td>2018-11-28</td>\n",
       "      <td>170</td>\n",
       "      <td>2019-02-13</td>\n",
       "      <td>2019</td>\n",
       "      <td>Q1</td>\n",
       "      <td>Q1 2019</td>\n",
       "      <td>263</td>\n",
       "      <td>Maryland</td>\n",
       "      <td>77</td>\n",
       "      <td>5</td>\n",
       "    </tr>\n",
       "    <tr>\n",
       "      <th>99873</th>\n",
       "      <td>Nike</td>\n",
       "      <td>Off-White</td>\n",
       "      <td>Nike-Zoom-Fly-Off-White-Pink</td>\n",
       "      <td>9.0</td>\n",
       "      <td>2018-11-28</td>\n",
       "      <td>170</td>\n",
       "      <td>2019-02-13</td>\n",
       "      <td>2019</td>\n",
       "      <td>Q1</td>\n",
       "      <td>Q1 2019</td>\n",
       "      <td>237</td>\n",
       "      <td>California</td>\n",
       "      <td>77</td>\n",
       "      <td>5</td>\n",
       "    </tr>\n",
       "  </tbody>\n",
       "</table>\n",
       "<p>27794 rows × 14 columns</p>\n",
       "</div>"
      ],
      "text/plain": [
       "      Brand   Designer                  Sneaker_Name  Shoe_Size Release_Date  \\\n",
       "128    Nike  Off-White     Nike-Air-Max-90-Off-White        8.0   2017-09-09   \n",
       "129    Nike  Off-White     Nike-Air-Max-90-Off-White       11.5   2017-09-09   \n",
       "130    Nike  Off-White     Nike-Air-Presto-Off-White       10.0   2017-09-09   \n",
       "131    Nike  Off-White     Nike-Air-Presto-Off-White       10.0   2017-09-09   \n",
       "132    Nike  Off-White   Nike-Air-VaporMax-Off-White       12.0   2017-09-09   \n",
       "...     ...        ...                           ...        ...          ...   \n",
       "99869  Nike  Off-White  Nike-Zoom-Fly-Off-White-Pink       11.0   2018-11-28   \n",
       "99870  Nike  Off-White  Nike-Zoom-Fly-Off-White-Pink        4.0   2018-11-28   \n",
       "99871  Nike  Off-White  Nike-Zoom-Fly-Off-White-Pink        6.0   2018-11-28   \n",
       "99872  Nike  Off-White  Nike-Zoom-Fly-Off-White-Pink       10.0   2018-11-28   \n",
       "99873  Nike  Off-White  Nike-Zoom-Fly-Off-White-Pink        9.0   2018-11-28   \n",
       "\n",
       "       Retail_Price Order_Date  Year Calendar_Quarter Order_Period (Q-YYYY)  \\\n",
       "128             160 2017-09-07  2017               Q3               Q3 2017   \n",
       "129             160 2017-09-07  2017               Q3               Q3 2017   \n",
       "130             160 2017-09-07  2017               Q3               Q3 2017   \n",
       "131             160 2017-09-07  2017               Q3               Q3 2017   \n",
       "132             250 2017-09-07  2017               Q3               Q3 2017   \n",
       "...             ...        ...   ...              ...                   ...   \n",
       "99869           170 2019-02-13  2019               Q1               Q1 2019   \n",
       "99870           170 2019-02-13  2019               Q1               Q1 2019   \n",
       "99871           170 2019-02-13  2019               Q1               Q1 2019   \n",
       "99872           170 2019-02-13  2019               Q1               Q1 2019   \n",
       "99873           170 2019-02-13  2019               Q1               Q1 2019   \n",
       "\n",
       "       Resale_Price   Buyer_Region  Hold_Period_In_Days  Find dash  \n",
       "128            1600     California                   -2          5  \n",
       "129            1090       New York                   -2          5  \n",
       "130            1344       New York                   -2          5  \n",
       "131            1325  Massachusetts                   -2          5  \n",
       "132            1800       Kentucky                   -2          5  \n",
       "...             ...            ...                  ...        ...  \n",
       "99869           265       New York                   77          5  \n",
       "99870           331     California                   77          5  \n",
       "99871           405       New York                   77          5  \n",
       "99872           263       Maryland                   77          5  \n",
       "99873           237     California                   77          5  \n",
       "\n",
       "[27794 rows x 14 columns]"
      ]
     },
     "execution_count": 61,
     "metadata": {},
     "output_type": "execute_result"
    }
   ],
   "source": [
    "nike = sneakers_data[sneakers_data['Designer']==\"Off-White\"]\n",
    "nike"
   ]
  },
  {
   "cell_type": "code",
   "execution_count": 65,
   "id": "fbc51e06",
   "metadata": {},
   "outputs": [
    {
     "data": {
      "text/html": [
       "<div>\n",
       "<style scoped>\n",
       "    .dataframe tbody tr th:only-of-type {\n",
       "        vertical-align: middle;\n",
       "    }\n",
       "\n",
       "    .dataframe tbody tr th {\n",
       "        vertical-align: top;\n",
       "    }\n",
       "\n",
       "    .dataframe thead th {\n",
       "        text-align: right;\n",
       "    }\n",
       "</style>\n",
       "<table border=\"1\" class=\"dataframe\">\n",
       "  <thead>\n",
       "    <tr style=\"text-align: right;\">\n",
       "      <th></th>\n",
       "      <th>Brand</th>\n",
       "      <th>Designer</th>\n",
       "      <th>Sneaker_Name</th>\n",
       "      <th>Shoe_Size</th>\n",
       "      <th>Release_Date</th>\n",
       "      <th>Retail_Price</th>\n",
       "      <th>Order_Date</th>\n",
       "      <th>Year</th>\n",
       "      <th>Calendar_Quarter</th>\n",
       "      <th>Order_Period (Q-YYYY)</th>\n",
       "      <th>Resale_Price</th>\n",
       "      <th>Buyer_Region</th>\n",
       "      <th>Hold_Period_In_Days</th>\n",
       "      <th>Find dash</th>\n",
       "    </tr>\n",
       "  </thead>\n",
       "  <tbody>\n",
       "    <tr>\n",
       "      <th>0</th>\n",
       "      <td>Nike</td>\n",
       "      <td>Yeezy</td>\n",
       "      <td>Adidas-Yeezy-Boost-350-Low-V2-Beluga</td>\n",
       "      <td>11.0</td>\n",
       "      <td>2016-09-24</td>\n",
       "      <td>220</td>\n",
       "      <td>2017-09-01</td>\n",
       "      <td>2017</td>\n",
       "      <td>Q3</td>\n",
       "      <td>Q3 2017</td>\n",
       "      <td>1097</td>\n",
       "      <td>California</td>\n",
       "      <td>342</td>\n",
       "      <td>7</td>\n",
       "    </tr>\n",
       "    <tr>\n",
       "      <th>1</th>\n",
       "      <td>Nike</td>\n",
       "      <td>Yeezy</td>\n",
       "      <td>Adidas-Yeezy-Boost-350-V2-Core-Black-Copper</td>\n",
       "      <td>11.0</td>\n",
       "      <td>2016-11-23</td>\n",
       "      <td>220</td>\n",
       "      <td>2017-09-01</td>\n",
       "      <td>2017</td>\n",
       "      <td>Q3</td>\n",
       "      <td>Q3 2017</td>\n",
       "      <td>685</td>\n",
       "      <td>California</td>\n",
       "      <td>282</td>\n",
       "      <td>7</td>\n",
       "    </tr>\n",
       "    <tr>\n",
       "      <th>2</th>\n",
       "      <td>Nike</td>\n",
       "      <td>Yeezy</td>\n",
       "      <td>Adidas-Yeezy-Boost-350-V2-Core-Black-Green</td>\n",
       "      <td>11.0</td>\n",
       "      <td>2016-11-23</td>\n",
       "      <td>220</td>\n",
       "      <td>2017-09-01</td>\n",
       "      <td>2017</td>\n",
       "      <td>Q3</td>\n",
       "      <td>Q3 2017</td>\n",
       "      <td>690</td>\n",
       "      <td>California</td>\n",
       "      <td>282</td>\n",
       "      <td>7</td>\n",
       "    </tr>\n",
       "    <tr>\n",
       "      <th>3</th>\n",
       "      <td>Nike</td>\n",
       "      <td>Yeezy</td>\n",
       "      <td>Adidas-Yeezy-Boost-350-V2-Core-Black-Red</td>\n",
       "      <td>11.5</td>\n",
       "      <td>2016-11-23</td>\n",
       "      <td>220</td>\n",
       "      <td>2017-09-01</td>\n",
       "      <td>2017</td>\n",
       "      <td>Q3</td>\n",
       "      <td>Q3 2017</td>\n",
       "      <td>1075</td>\n",
       "      <td>Kentucky</td>\n",
       "      <td>282</td>\n",
       "      <td>7</td>\n",
       "    </tr>\n",
       "    <tr>\n",
       "      <th>4</th>\n",
       "      <td>Nike</td>\n",
       "      <td>Yeezy</td>\n",
       "      <td>Adidas-Yeezy-Boost-350-V2-Core-Black-Red-2017</td>\n",
       "      <td>11.0</td>\n",
       "      <td>2017-02-11</td>\n",
       "      <td>220</td>\n",
       "      <td>2017-09-01</td>\n",
       "      <td>2017</td>\n",
       "      <td>Q3</td>\n",
       "      <td>Q3 2017</td>\n",
       "      <td>828</td>\n",
       "      <td>Rhode Island</td>\n",
       "      <td>202</td>\n",
       "      <td>7</td>\n",
       "    </tr>\n",
       "    <tr>\n",
       "      <th>...</th>\n",
       "      <td>...</td>\n",
       "      <td>...</td>\n",
       "      <td>...</td>\n",
       "      <td>...</td>\n",
       "      <td>...</td>\n",
       "      <td>...</td>\n",
       "      <td>...</td>\n",
       "      <td>...</td>\n",
       "      <td>...</td>\n",
       "      <td>...</td>\n",
       "      <td>...</td>\n",
       "      <td>...</td>\n",
       "      <td>...</td>\n",
       "      <td>...</td>\n",
       "    </tr>\n",
       "    <tr>\n",
       "      <th>99951</th>\n",
       "      <td>Nike</td>\n",
       "      <td>Yeezy</td>\n",
       "      <td>adidas-Yeezy-Boost-350-V2-Static-Reflective</td>\n",
       "      <td>8.0</td>\n",
       "      <td>2018-12-26</td>\n",
       "      <td>220</td>\n",
       "      <td>2019-02-13</td>\n",
       "      <td>2019</td>\n",
       "      <td>Q1</td>\n",
       "      <td>Q1 2019</td>\n",
       "      <td>565</td>\n",
       "      <td>Oregon</td>\n",
       "      <td>49</td>\n",
       "      <td>7</td>\n",
       "    </tr>\n",
       "    <tr>\n",
       "      <th>99952</th>\n",
       "      <td>Nike</td>\n",
       "      <td>Yeezy</td>\n",
       "      <td>adidas-Yeezy-Boost-350-V2-Static-Reflective</td>\n",
       "      <td>8.5</td>\n",
       "      <td>2018-12-26</td>\n",
       "      <td>220</td>\n",
       "      <td>2019-02-13</td>\n",
       "      <td>2019</td>\n",
       "      <td>Q1</td>\n",
       "      <td>Q1 2019</td>\n",
       "      <td>598</td>\n",
       "      <td>California</td>\n",
       "      <td>49</td>\n",
       "      <td>7</td>\n",
       "    </tr>\n",
       "    <tr>\n",
       "      <th>99953</th>\n",
       "      <td>Nike</td>\n",
       "      <td>Yeezy</td>\n",
       "      <td>adidas-Yeezy-Boost-350-V2-Static-Reflective</td>\n",
       "      <td>5.5</td>\n",
       "      <td>2018-12-26</td>\n",
       "      <td>220</td>\n",
       "      <td>2019-02-13</td>\n",
       "      <td>2019</td>\n",
       "      <td>Q1</td>\n",
       "      <td>Q1 2019</td>\n",
       "      <td>605</td>\n",
       "      <td>New York</td>\n",
       "      <td>49</td>\n",
       "      <td>7</td>\n",
       "    </tr>\n",
       "    <tr>\n",
       "      <th>99954</th>\n",
       "      <td>Nike</td>\n",
       "      <td>Yeezy</td>\n",
       "      <td>adidas-Yeezy-Boost-350-V2-Static-Reflective</td>\n",
       "      <td>11.0</td>\n",
       "      <td>2018-12-26</td>\n",
       "      <td>220</td>\n",
       "      <td>2019-02-13</td>\n",
       "      <td>2019</td>\n",
       "      <td>Q1</td>\n",
       "      <td>Q1 2019</td>\n",
       "      <td>650</td>\n",
       "      <td>California</td>\n",
       "      <td>49</td>\n",
       "      <td>7</td>\n",
       "    </tr>\n",
       "    <tr>\n",
       "      <th>99955</th>\n",
       "      <td>Nike</td>\n",
       "      <td>Yeezy</td>\n",
       "      <td>adidas-Yeezy-Boost-350-V2-Static-Reflective</td>\n",
       "      <td>11.5</td>\n",
       "      <td>2018-12-26</td>\n",
       "      <td>220</td>\n",
       "      <td>2019-02-13</td>\n",
       "      <td>2019</td>\n",
       "      <td>Q1</td>\n",
       "      <td>Q1 2019</td>\n",
       "      <td>640</td>\n",
       "      <td>Texas</td>\n",
       "      <td>49</td>\n",
       "      <td>7</td>\n",
       "    </tr>\n",
       "  </tbody>\n",
       "</table>\n",
       "<p>72162 rows × 14 columns</p>\n",
       "</div>"
      ],
      "text/plain": [
       "      Brand Designer                                   Sneaker_Name  \\\n",
       "0      Nike    Yeezy           Adidas-Yeezy-Boost-350-Low-V2-Beluga   \n",
       "1      Nike    Yeezy    Adidas-Yeezy-Boost-350-V2-Core-Black-Copper   \n",
       "2      Nike    Yeezy     Adidas-Yeezy-Boost-350-V2-Core-Black-Green   \n",
       "3      Nike    Yeezy       Adidas-Yeezy-Boost-350-V2-Core-Black-Red   \n",
       "4      Nike    Yeezy  Adidas-Yeezy-Boost-350-V2-Core-Black-Red-2017   \n",
       "...     ...      ...                                            ...   \n",
       "99951  Nike    Yeezy    adidas-Yeezy-Boost-350-V2-Static-Reflective   \n",
       "99952  Nike    Yeezy    adidas-Yeezy-Boost-350-V2-Static-Reflective   \n",
       "99953  Nike    Yeezy    adidas-Yeezy-Boost-350-V2-Static-Reflective   \n",
       "99954  Nike    Yeezy    adidas-Yeezy-Boost-350-V2-Static-Reflective   \n",
       "99955  Nike    Yeezy    adidas-Yeezy-Boost-350-V2-Static-Reflective   \n",
       "\n",
       "       Shoe_Size Release_Date  Retail_Price Order_Date  Year Calendar_Quarter  \\\n",
       "0           11.0   2016-09-24           220 2017-09-01  2017               Q3   \n",
       "1           11.0   2016-11-23           220 2017-09-01  2017               Q3   \n",
       "2           11.0   2016-11-23           220 2017-09-01  2017               Q3   \n",
       "3           11.5   2016-11-23           220 2017-09-01  2017               Q3   \n",
       "4           11.0   2017-02-11           220 2017-09-01  2017               Q3   \n",
       "...          ...          ...           ...        ...   ...              ...   \n",
       "99951        8.0   2018-12-26           220 2019-02-13  2019               Q1   \n",
       "99952        8.5   2018-12-26           220 2019-02-13  2019               Q1   \n",
       "99953        5.5   2018-12-26           220 2019-02-13  2019               Q1   \n",
       "99954       11.0   2018-12-26           220 2019-02-13  2019               Q1   \n",
       "99955       11.5   2018-12-26           220 2019-02-13  2019               Q1   \n",
       "\n",
       "      Order_Period (Q-YYYY)  Resale_Price  Buyer_Region  Hold_Period_In_Days  \\\n",
       "0                   Q3 2017          1097    California                  342   \n",
       "1                   Q3 2017           685    California                  282   \n",
       "2                   Q3 2017           690    California                  282   \n",
       "3                   Q3 2017          1075      Kentucky                  282   \n",
       "4                   Q3 2017           828  Rhode Island                  202   \n",
       "...                     ...           ...           ...                  ...   \n",
       "99951               Q1 2019           565        Oregon                   49   \n",
       "99952               Q1 2019           598    California                   49   \n",
       "99953               Q1 2019           605      New York                   49   \n",
       "99954               Q1 2019           650    California                   49   \n",
       "99955               Q1 2019           640         Texas                   49   \n",
       "\n",
       "       Find dash  \n",
       "0              7  \n",
       "1              7  \n",
       "2              7  \n",
       "3              7  \n",
       "4              7  \n",
       "...          ...  \n",
       "99951          7  \n",
       "99952          7  \n",
       "99953          7  \n",
       "99954          7  \n",
       "99955          7  \n",
       "\n",
       "[72162 rows x 14 columns]"
      ]
     },
     "execution_count": 65,
     "metadata": {},
     "output_type": "execute_result"
    }
   ],
   "source": [
    "adidas = sneakers_data[sneakers_data['Designer']==\"Yeezy\"]\n",
    "adidas"
   ]
  },
  {
   "cell_type": "code",
   "execution_count": 72,
   "id": "9d91247d",
   "metadata": {},
   "outputs": [
    {
     "name": "stderr",
     "output_type": "stream",
     "text": [
      "/Users/ghanamanb/opt/anaconda3/lib/python3.8/site-packages/seaborn/distributions.py:2557: FutureWarning: `distplot` is a deprecated function and will be removed in a future version. Please adapt your code to use either `displot` (a figure-level function with similar flexibility) or `histplot` (an axes-level function for histograms).\n",
      "  warnings.warn(msg, FutureWarning)\n"
     ]
    },
    {
     "data": {
      "image/png": "[encoded data removed]",
      "text/plain": [
       "<Figure size 432x288 with 1 Axes>"
      ]
     },
     "metadata": {
      "needs_background": "light"
     },
     "output_type": "display_data"
    }
   ],
   "source": [
    "sns.distplot(nike['Retail_Price'], kde = False, label = 'nike')\n",
    "sns.distplot(adidas['Retail_Price'], kde = False, label = 'adidas')\n",
    "plt.legend()\n",
    "plt.show()"
   ]
  },
  {
   "cell_type": "code",
   "execution_count": 73,
   "id": "62cd5901",
   "metadata": {},
   "outputs": [
    {
     "data": {
      "image/png": "[encoded data removed]",
      "text/plain": [
       "<Figure size 432x288 with 1 Axes>"
      ]
     },
     "metadata": {
      "needs_background": "light"
     },
     "output_type": "display_data"
    }
   ],
   "source": [
    "sns.distplot(nike['Resale_Price'], kde = False, label = 'nike')\n",
    "sns.distplot(adidas['Resale_Price'], kde = False, label = 'adidas')\n",
    "plt.legend()\n",
    "plt.show()"
   ]
  },
  {
   "cell_type": "code",
   "execution_count": null,
   "id": "2476884e",
   "metadata": {},
   "outputs": [],
   "source": []
  }
 ],
 "metadata": {
  "kernelspec": {
   "display_name": "Python 3",
   "language": "python",
   "name": "python3"
  },
  "language_info": {
   "codemirror_mode": {
    "name": "ipython",
    "version": 3
   },
   "file_extension": ".py",
   "mimetype": "text/x-python",
   "name": "python",
   "nbconvert_exporter": "python",
   "pygments_lexer": "ipython3",
   "version": "3.8.8"
  }
 },
 "nbformat": 4,
 "nbformat_minor": 5
}
